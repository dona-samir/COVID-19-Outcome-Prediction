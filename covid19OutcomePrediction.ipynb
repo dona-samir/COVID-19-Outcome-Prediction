{
 "cells": [
  {
   "cell_type": "markdown",
   "id": "590a7100",
   "metadata": {},
   "source": [
    "## TEAM 14:\n",
    "\n",
    "* Dona Samir Adly - 18P7377\n",
    "* Steven Sameh Refaat - 18P9325\n",
    "---"
   ]
  },
  {
   "cell_type": "markdown",
   "id": "5cc39b30",
   "metadata": {},
   "source": [
    "## IMPORTING IMPORTANT LIBRARIES"
   ]
  },
  {
   "cell_type": "code",
   "execution_count": 1,
   "id": "a1916b99",
   "metadata": {},
   "outputs": [],
   "source": [
    "import numpy as np\n",
    "import pandas as pd\n",
    "import seaborn as sns\n",
    "import matplotlib.pyplot as plt\n",
    "from sklearn import datasets, linear_model, preprocessing\n",
    "from sklearn.model_selection import train_test_split\n",
    "from sklearn.neighbors import KNeighborsClassifier\n",
    "from sklearn.naive_bayes import GaussianNB\n",
    "from sklearn.model_selection import GridSearchCV\n",
    "from sklearn.metrics import fbeta_score, roc_curve, roc_auc_score, recall_score\n",
    "from sklearn.metrics import precision_score, accuracy_score, make_scorer\n",
    "from sklearn.metrics import classification_report, plot_confusion_matrix\n",
    "from sklearn.preprocessing import MinMaxScaler\n",
    "from sklearn.preprocessing import StandardScaler\n",
    "from sklearn.svm import SVC\n",
    "from sklearn.tree import export_graphviz\n",
    "from six import StringIO\n",
    "from IPython.display import Image\n",
    "import pydotplus"
   ]
  },
  {
   "cell_type": "markdown",
   "id": "1c8d97c7",
   "metadata": {},
   "source": [
    "## LOADING THE DATASET"
   ]
  },
  {
   "cell_type": "code",
   "execution_count": 2,
   "id": "6df0908f",
   "metadata": {},
   "outputs": [
    {
     "data": {
      "text/plain": [
       "(863, 14)"
      ]
     },
     "execution_count": 2,
     "metadata": {},
     "output_type": "execute_result"
    }
   ],
   "source": [
    "df = pd.read_csv('data.csv')\n",
    "df.columns.values[0]=\"index\"\n",
    "df=df.set_index(\"index\")\n",
    "df.shape"
   ]
  },
  {
   "cell_type": "code",
   "execution_count": 3,
   "id": "957eab04",
   "metadata": {},
   "outputs": [
    {
     "data": {
      "text/html": [
       "<div>\n",
       "<style scoped>\n",
       "    .dataframe tbody tr th:only-of-type {\n",
       "        vertical-align: middle;\n",
       "    }\n",
       "\n",
       "    .dataframe tbody tr th {\n",
       "        vertical-align: top;\n",
       "    }\n",
       "\n",
       "    .dataframe thead th {\n",
       "        text-align: right;\n",
       "    }\n",
       "</style>\n",
       "<table border=\"1\" class=\"dataframe\">\n",
       "  <thead>\n",
       "    <tr style=\"text-align: right;\">\n",
       "      <th></th>\n",
       "      <th>location</th>\n",
       "      <th>country</th>\n",
       "      <th>gender</th>\n",
       "      <th>age</th>\n",
       "      <th>vis_wuhan</th>\n",
       "      <th>from_wuhan</th>\n",
       "      <th>symptom1</th>\n",
       "      <th>symptom2</th>\n",
       "      <th>symptom3</th>\n",
       "      <th>symptom4</th>\n",
       "      <th>symptom5</th>\n",
       "      <th>symptom6</th>\n",
       "      <th>diff_sym_hos</th>\n",
       "      <th>result</th>\n",
       "    </tr>\n",
       "    <tr>\n",
       "      <th>index</th>\n",
       "      <th></th>\n",
       "      <th></th>\n",
       "      <th></th>\n",
       "      <th></th>\n",
       "      <th></th>\n",
       "      <th></th>\n",
       "      <th></th>\n",
       "      <th></th>\n",
       "      <th></th>\n",
       "      <th></th>\n",
       "      <th></th>\n",
       "      <th></th>\n",
       "      <th></th>\n",
       "      <th></th>\n",
       "    </tr>\n",
       "  </thead>\n",
       "  <tbody>\n",
       "    <tr>\n",
       "      <th>0</th>\n",
       "      <td>104</td>\n",
       "      <td>8</td>\n",
       "      <td>1</td>\n",
       "      <td>66.0</td>\n",
       "      <td>1</td>\n",
       "      <td>0</td>\n",
       "      <td>14</td>\n",
       "      <td>31</td>\n",
       "      <td>19</td>\n",
       "      <td>12</td>\n",
       "      <td>3</td>\n",
       "      <td>1</td>\n",
       "      <td>8</td>\n",
       "      <td>1</td>\n",
       "    </tr>\n",
       "    <tr>\n",
       "      <th>1</th>\n",
       "      <td>101</td>\n",
       "      <td>8</td>\n",
       "      <td>0</td>\n",
       "      <td>56.0</td>\n",
       "      <td>0</td>\n",
       "      <td>1</td>\n",
       "      <td>14</td>\n",
       "      <td>31</td>\n",
       "      <td>19</td>\n",
       "      <td>12</td>\n",
       "      <td>3</td>\n",
       "      <td>1</td>\n",
       "      <td>0</td>\n",
       "      <td>0</td>\n",
       "    </tr>\n",
       "    <tr>\n",
       "      <th>2</th>\n",
       "      <td>137</td>\n",
       "      <td>8</td>\n",
       "      <td>1</td>\n",
       "      <td>46.0</td>\n",
       "      <td>0</td>\n",
       "      <td>1</td>\n",
       "      <td>14</td>\n",
       "      <td>31</td>\n",
       "      <td>19</td>\n",
       "      <td>12</td>\n",
       "      <td>3</td>\n",
       "      <td>1</td>\n",
       "      <td>13</td>\n",
       "      <td>0</td>\n",
       "    </tr>\n",
       "    <tr>\n",
       "      <th>3</th>\n",
       "      <td>116</td>\n",
       "      <td>8</td>\n",
       "      <td>0</td>\n",
       "      <td>60.0</td>\n",
       "      <td>1</td>\n",
       "      <td>0</td>\n",
       "      <td>14</td>\n",
       "      <td>31</td>\n",
       "      <td>19</td>\n",
       "      <td>12</td>\n",
       "      <td>3</td>\n",
       "      <td>1</td>\n",
       "      <td>0</td>\n",
       "      <td>0</td>\n",
       "    </tr>\n",
       "    <tr>\n",
       "      <th>4</th>\n",
       "      <td>116</td>\n",
       "      <td>8</td>\n",
       "      <td>1</td>\n",
       "      <td>58.0</td>\n",
       "      <td>0</td>\n",
       "      <td>0</td>\n",
       "      <td>14</td>\n",
       "      <td>31</td>\n",
       "      <td>19</td>\n",
       "      <td>12</td>\n",
       "      <td>3</td>\n",
       "      <td>1</td>\n",
       "      <td>0</td>\n",
       "      <td>0</td>\n",
       "    </tr>\n",
       "  </tbody>\n",
       "</table>\n",
       "</div>"
      ],
      "text/plain": [
       "       location  country  gender   age  vis_wuhan  from_wuhan  symptom1  \\\n",
       "index                                                                     \n",
       "0           104        8       1  66.0          1           0        14   \n",
       "1           101        8       0  56.0          0           1        14   \n",
       "2           137        8       1  46.0          0           1        14   \n",
       "3           116        8       0  60.0          1           0        14   \n",
       "4           116        8       1  58.0          0           0        14   \n",
       "\n",
       "       symptom2  symptom3  symptom4  symptom5  symptom6  diff_sym_hos  result  \n",
       "index                                                                          \n",
       "0            31        19        12         3         1             8       1  \n",
       "1            31        19        12         3         1             0       0  \n",
       "2            31        19        12         3         1            13       0  \n",
       "3            31        19        12         3         1             0       0  \n",
       "4            31        19        12         3         1             0       0  "
      ]
     },
     "execution_count": 3,
     "metadata": {},
     "output_type": "execute_result"
    }
   ],
   "source": [
    "df.head(5)"
   ]
  },
  {
   "cell_type": "markdown",
   "id": "67b13b6c",
   "metadata": {},
   "source": [
    "## DATA ANALYSIS"
   ]
  },
  {
   "cell_type": "markdown",
   "id": "0085f573",
   "metadata": {},
   "source": [
    "### 1. Correlation Analysis:\n",
    "\n",
    "To observe if two columns are correlated using Pearson Coeffecient as a heatmap"
   ]
  },
  {
   "cell_type": "code",
   "execution_count": 4,
   "id": "1c7e28e9",
   "metadata": {},
   "outputs": [
    {
     "data": {
      "image/png": "[encoded data removed]",
      "text/plain": [
       "<Figure size 1080x1080 with 2 Axes>"
      ]
     },
     "metadata": {
      "needs_background": "light"
     },
     "output_type": "display_data"
    }
   ],
   "source": [
    "fig, ax = plt.subplots(figsize=(15,15))\n",
    "dataplot = sns.heatmap(df.corr(), cmap=\"YlGnBu\", annot=True, ax=ax)\n",
    "  \n",
    "plt.show()"
   ]
  },
  {
   "cell_type": "markdown",
   "id": "7307a9a8",
   "metadata": {},
   "source": [
    "### 2. Scatter Plots: \n",
    "Based on the correlation analysis above, we suspect some correlations, so in this part, we plot some important scatter plots, to get a clearer view of the data.\n",
    "\n",
    "#### a. Age vs. Result: \n",
    "Because of the high correlation 0.52"
   ]
  },
  {
   "cell_type": "code",
   "execution_count": 5,
   "id": "6928408b",
   "metadata": {},
   "outputs": [
    {
     "data": {
      "image/png": "[encoded data removed]",
      "text/plain": [
       "<Figure size 432x288 with 1 Axes>"
      ]
     },
     "metadata": {
      "needs_background": "light"
     },
     "output_type": "display_data"
    }
   ],
   "source": [
    "plt.plot(df['age'], df['result'], 'r.', markersize=4)\n",
    "plt.title(\"Age vs. Result\")\n",
    "plt.xlabel('Age')\n",
    "plt.ylabel(\"Result\")\n",
    "plt.show()"
   ]
  },
  {
   "cell_type": "markdown",
   "id": "0a0c1179",
   "metadata": {},
   "source": [
    "#### b. Symptom 1 vs Symptom 2\n",
    "Because of their high correlation We suspect that one column of them can be enough and the other could be dropped."
   ]
  },
  {
   "cell_type": "code",
   "execution_count": 6,
   "id": "9342ab63",
   "metadata": {},
   "outputs": [
    {
     "data": {
      "image/png": "[encoded data removed]",
      "text/plain": [
       "<Figure size 432x288 with 1 Axes>"
      ]
     },
     "metadata": {
      "needs_background": "light"
     },
     "output_type": "display_data"
    }
   ],
   "source": [
    "plt.plot(df['symptom1'], df['symptom2'], 'r.', markersize=4)\n",
    "plt.title(\"Symptom1 vs. Symptom2\")\n",
    "plt.xlabel(\"Symptom1\")\n",
    "plt.ylabel(\"Symptom2\")\n",
    "plt.show()"
   ]
  },
  {
   "cell_type": "markdown",
   "id": "7a326f90",
   "metadata": {},
   "source": [
    "#### c. Symptom 2 vs Symptom 3\n",
    "Because of their high correlation, we also suspect that one of them could be dropped"
   ]
  },
  {
   "cell_type": "code",
   "execution_count": 7,
   "id": "f98990da",
   "metadata": {},
   "outputs": [
    {
     "data": {
      "image/png": "[encoded data removed]",
      "text/plain": [
       "<Figure size 432x288 with 1 Axes>"
      ]
     },
     "metadata": {
      "needs_background": "light"
     },
     "output_type": "display_data"
    }
   ],
   "source": [
    "plt.plot(df['symptom2'], df['symptom3'], 'r.', markersize=4)\n",
    "plt.title(\"Symptom2 vers Symptom3\")\n",
    "plt.xlabel(\"Symptom2\")\n",
    "plt.ylabel(\"Symptom3\")\n",
    "plt.show()"
   ]
  },
  {
   "cell_type": "markdown",
   "id": "6e663a3f",
   "metadata": {},
   "source": [
    "### Conclusion:\n",
    "\n",
    "Based on these scatter plots, the correaltion between symptom1 and symptom2 is not a strong one. Also, there is no correlation concluded between symptom2 and symptom 3.\n",
    "\n",
    "__Therefore, We can't drop any of these columns!__\n",
    "\n",
    "It's concluded from the scatter plot of the Age and Result, that deaths is more frequent with higher age."
   ]
  },
  {
   "cell_type": "markdown",
   "id": "59269680",
   "metadata": {},
   "source": [
    "## 3. Histograms:\n",
    "To give better insights about frequency distributions of each feature."
   ]
  },
  {
   "cell_type": "code",
   "execution_count": 8,
   "id": "6b864005",
   "metadata": {
    "scrolled": false
   },
   "outputs": [
    {
     "data": {
      "text/plain": [
       "array([[<AxesSubplot:title={'center':'location'}>,\n",
       "        <AxesSubplot:title={'center':'country'}>],\n",
       "       [<AxesSubplot:title={'center':'gender'}>,\n",
       "        <AxesSubplot:title={'center':'age'}>],\n",
       "       [<AxesSubplot:title={'center':'vis_wuhan'}>,\n",
       "        <AxesSubplot:title={'center':'from_wuhan'}>],\n",
       "       [<AxesSubplot:title={'center':'symptom1'}>,\n",
       "        <AxesSubplot:title={'center':'symptom2'}>],\n",
       "       [<AxesSubplot:title={'center':'symptom3'}>,\n",
       "        <AxesSubplot:title={'center':'symptom4'}>],\n",
       "       [<AxesSubplot:title={'center':'symptom5'}>,\n",
       "        <AxesSubplot:title={'center':'symptom6'}>],\n",
       "       [<AxesSubplot:title={'center':'diff_sym_hos'}>,\n",
       "        <AxesSubplot:title={'center':'result'}>]], dtype=object)"
      ]
     },
     "execution_count": 8,
     "metadata": {},
     "output_type": "execute_result"
    },
    {
     "data": {
      "image/png": "[encoded data removed]",
      "text/plain": [
       "<Figure size 1152x2160 with 14 Axes>"
      ]
     },
     "metadata": {
      "needs_background": "light"
     },
     "output_type": "display_data"
    }
   ],
   "source": [
    "fig, axis = plt.subplots(7,2,figsize=(16, 30))\n",
    "df.hist(ax=axis)"
   ]
  },
  {
   "cell_type": "markdown",
   "id": "a20226c7",
   "metadata": {},
   "source": [
    "From the histogram of Symptoms 3 to 6, we can suspect that they are not discriminative enough. We can get clearer idea about them, if we got the frequency of each unique value in each of them."
   ]
  },
  {
   "cell_type": "code",
   "execution_count": 9,
   "id": "6f491215",
   "metadata": {},
   "outputs": [
    {
     "name": "stdout",
     "output_type": "stream",
     "text": [
      "symptom3\n"
     ]
    },
    {
     "data": {
      "text/html": [
       "<div>\n",
       "<style scoped>\n",
       "    .dataframe tbody tr th:only-of-type {\n",
       "        vertical-align: middle;\n",
       "    }\n",
       "\n",
       "    .dataframe tbody tr th {\n",
       "        vertical-align: top;\n",
       "    }\n",
       "\n",
       "    .dataframe thead th {\n",
       "        text-align: right;\n",
       "    }\n",
       "</style>\n",
       "<table border=\"1\" class=\"dataframe\">\n",
       "  <thead>\n",
       "    <tr style=\"text-align: right;\">\n",
       "      <th></th>\n",
       "      <th>unique_value</th>\n",
       "      <th>counts</th>\n",
       "    </tr>\n",
       "  </thead>\n",
       "  <tbody>\n",
       "    <tr>\n",
       "      <th>0</th>\n",
       "      <td>19</td>\n",
       "      <td>803</td>\n",
       "    </tr>\n",
       "    <tr>\n",
       "      <th>1</th>\n",
       "      <td>8</td>\n",
       "      <td>10</td>\n",
       "    </tr>\n",
       "    <tr>\n",
       "      <th>2</th>\n",
       "      <td>6</td>\n",
       "      <td>7</td>\n",
       "    </tr>\n",
       "    <tr>\n",
       "      <th>3</th>\n",
       "      <td>15</td>\n",
       "      <td>6</td>\n",
       "    </tr>\n",
       "    <tr>\n",
       "      <th>4</th>\n",
       "      <td>5</td>\n",
       "      <td>5</td>\n",
       "    </tr>\n",
       "    <tr>\n",
       "      <th>5</th>\n",
       "      <td>16</td>\n",
       "      <td>5</td>\n",
       "    </tr>\n",
       "    <tr>\n",
       "      <th>6</th>\n",
       "      <td>14</td>\n",
       "      <td>5</td>\n",
       "    </tr>\n",
       "    <tr>\n",
       "      <th>7</th>\n",
       "      <td>7</td>\n",
       "      <td>5</td>\n",
       "    </tr>\n",
       "    <tr>\n",
       "      <th>8</th>\n",
       "      <td>3</td>\n",
       "      <td>4</td>\n",
       "    </tr>\n",
       "    <tr>\n",
       "      <th>9</th>\n",
       "      <td>2</td>\n",
       "      <td>3</td>\n",
       "    </tr>\n",
       "    <tr>\n",
       "      <th>10</th>\n",
       "      <td>11</td>\n",
       "      <td>1</td>\n",
       "    </tr>\n",
       "    <tr>\n",
       "      <th>11</th>\n",
       "      <td>18</td>\n",
       "      <td>1</td>\n",
       "    </tr>\n",
       "    <tr>\n",
       "      <th>12</th>\n",
       "      <td>12</td>\n",
       "      <td>1</td>\n",
       "    </tr>\n",
       "    <tr>\n",
       "      <th>13</th>\n",
       "      <td>9</td>\n",
       "      <td>1</td>\n",
       "    </tr>\n",
       "    <tr>\n",
       "      <th>14</th>\n",
       "      <td>17</td>\n",
       "      <td>1</td>\n",
       "    </tr>\n",
       "    <tr>\n",
       "      <th>15</th>\n",
       "      <td>10</td>\n",
       "      <td>1</td>\n",
       "    </tr>\n",
       "    <tr>\n",
       "      <th>16</th>\n",
       "      <td>13</td>\n",
       "      <td>1</td>\n",
       "    </tr>\n",
       "    <tr>\n",
       "      <th>17</th>\n",
       "      <td>0</td>\n",
       "      <td>1</td>\n",
       "    </tr>\n",
       "    <tr>\n",
       "      <th>18</th>\n",
       "      <td>4</td>\n",
       "      <td>1</td>\n",
       "    </tr>\n",
       "    <tr>\n",
       "      <th>19</th>\n",
       "      <td>1</td>\n",
       "      <td>1</td>\n",
       "    </tr>\n",
       "  </tbody>\n",
       "</table>\n",
       "</div>"
      ],
      "text/plain": [
       "    unique_value  counts\n",
       "0             19     803\n",
       "1              8      10\n",
       "2              6       7\n",
       "3             15       6\n",
       "4              5       5\n",
       "5             16       5\n",
       "6             14       5\n",
       "7              7       5\n",
       "8              3       4\n",
       "9              2       3\n",
       "10            11       1\n",
       "11            18       1\n",
       "12            12       1\n",
       "13             9       1\n",
       "14            17       1\n",
       "15            10       1\n",
       "16            13       1\n",
       "17             0       1\n",
       "18             4       1\n",
       "19             1       1"
      ]
     },
     "metadata": {},
     "output_type": "display_data"
    },
    {
     "name": "stdout",
     "output_type": "stream",
     "text": [
      "symptom4\n"
     ]
    },
    {
     "data": {
      "text/html": [
       "<div>\n",
       "<style scoped>\n",
       "    .dataframe tbody tr th:only-of-type {\n",
       "        vertical-align: middle;\n",
       "    }\n",
       "\n",
       "    .dataframe tbody tr th {\n",
       "        vertical-align: top;\n",
       "    }\n",
       "\n",
       "    .dataframe thead th {\n",
       "        text-align: right;\n",
       "    }\n",
       "</style>\n",
       "<table border=\"1\" class=\"dataframe\">\n",
       "  <thead>\n",
       "    <tr style=\"text-align: right;\">\n",
       "      <th></th>\n",
       "      <th>unique_value</th>\n",
       "      <th>counts</th>\n",
       "    </tr>\n",
       "  </thead>\n",
       "  <tbody>\n",
       "    <tr>\n",
       "      <th>0</th>\n",
       "      <td>12</td>\n",
       "      <td>844</td>\n",
       "    </tr>\n",
       "    <tr>\n",
       "      <th>1</th>\n",
       "      <td>2</td>\n",
       "      <td>3</td>\n",
       "    </tr>\n",
       "    <tr>\n",
       "      <th>2</th>\n",
       "      <td>0</td>\n",
       "      <td>2</td>\n",
       "    </tr>\n",
       "    <tr>\n",
       "      <th>3</th>\n",
       "      <td>7</td>\n",
       "      <td>2</td>\n",
       "    </tr>\n",
       "    <tr>\n",
       "      <th>4</th>\n",
       "      <td>3</td>\n",
       "      <td>2</td>\n",
       "    </tr>\n",
       "    <tr>\n",
       "      <th>5</th>\n",
       "      <td>1</td>\n",
       "      <td>2</td>\n",
       "    </tr>\n",
       "    <tr>\n",
       "      <th>6</th>\n",
       "      <td>9</td>\n",
       "      <td>2</td>\n",
       "    </tr>\n",
       "    <tr>\n",
       "      <th>7</th>\n",
       "      <td>8</td>\n",
       "      <td>1</td>\n",
       "    </tr>\n",
       "    <tr>\n",
       "      <th>8</th>\n",
       "      <td>11</td>\n",
       "      <td>1</td>\n",
       "    </tr>\n",
       "    <tr>\n",
       "      <th>9</th>\n",
       "      <td>5</td>\n",
       "      <td>1</td>\n",
       "    </tr>\n",
       "    <tr>\n",
       "      <th>10</th>\n",
       "      <td>10</td>\n",
       "      <td>1</td>\n",
       "    </tr>\n",
       "    <tr>\n",
       "      <th>11</th>\n",
       "      <td>6</td>\n",
       "      <td>1</td>\n",
       "    </tr>\n",
       "    <tr>\n",
       "      <th>12</th>\n",
       "      <td>4</td>\n",
       "      <td>1</td>\n",
       "    </tr>\n",
       "  </tbody>\n",
       "</table>\n",
       "</div>"
      ],
      "text/plain": [
       "    unique_value  counts\n",
       "0             12     844\n",
       "1              2       3\n",
       "2              0       2\n",
       "3              7       2\n",
       "4              3       2\n",
       "5              1       2\n",
       "6              9       2\n",
       "7              8       1\n",
       "8             11       1\n",
       "9              5       1\n",
       "10            10       1\n",
       "11             6       1\n",
       "12             4       1"
      ]
     },
     "metadata": {},
     "output_type": "display_data"
    },
    {
     "name": "stdout",
     "output_type": "stream",
     "text": [
      "symptom5\n"
     ]
    },
    {
     "data": {
      "text/html": [
       "<div>\n",
       "<style scoped>\n",
       "    .dataframe tbody tr th:only-of-type {\n",
       "        vertical-align: middle;\n",
       "    }\n",
       "\n",
       "    .dataframe tbody tr th {\n",
       "        vertical-align: top;\n",
       "    }\n",
       "\n",
       "    .dataframe thead th {\n",
       "        text-align: right;\n",
       "    }\n",
       "</style>\n",
       "<table border=\"1\" class=\"dataframe\">\n",
       "  <thead>\n",
       "    <tr style=\"text-align: right;\">\n",
       "      <th></th>\n",
       "      <th>unique_value</th>\n",
       "      <th>counts</th>\n",
       "    </tr>\n",
       "  </thead>\n",
       "  <tbody>\n",
       "    <tr>\n",
       "      <th>0</th>\n",
       "      <td>3</td>\n",
       "      <td>860</td>\n",
       "    </tr>\n",
       "    <tr>\n",
       "      <th>1</th>\n",
       "      <td>2</td>\n",
       "      <td>1</td>\n",
       "    </tr>\n",
       "    <tr>\n",
       "      <th>2</th>\n",
       "      <td>1</td>\n",
       "      <td>1</td>\n",
       "    </tr>\n",
       "    <tr>\n",
       "      <th>3</th>\n",
       "      <td>0</td>\n",
       "      <td>1</td>\n",
       "    </tr>\n",
       "  </tbody>\n",
       "</table>\n",
       "</div>"
      ],
      "text/plain": [
       "   unique_value  counts\n",
       "0             3     860\n",
       "1             2       1\n",
       "2             1       1\n",
       "3             0       1"
      ]
     },
     "metadata": {},
     "output_type": "display_data"
    },
    {
     "name": "stdout",
     "output_type": "stream",
     "text": [
      "symptom6\n"
     ]
    },
    {
     "data": {
      "text/html": [
       "<div>\n",
       "<style scoped>\n",
       "    .dataframe tbody tr th:only-of-type {\n",
       "        vertical-align: middle;\n",
       "    }\n",
       "\n",
       "    .dataframe tbody tr th {\n",
       "        vertical-align: top;\n",
       "    }\n",
       "\n",
       "    .dataframe thead th {\n",
       "        text-align: right;\n",
       "    }\n",
       "</style>\n",
       "<table border=\"1\" class=\"dataframe\">\n",
       "  <thead>\n",
       "    <tr style=\"text-align: right;\">\n",
       "      <th></th>\n",
       "      <th>unique_value</th>\n",
       "      <th>counts</th>\n",
       "    </tr>\n",
       "  </thead>\n",
       "  <tbody>\n",
       "    <tr>\n",
       "      <th>0</th>\n",
       "      <td>1</td>\n",
       "      <td>862</td>\n",
       "    </tr>\n",
       "    <tr>\n",
       "      <th>1</th>\n",
       "      <td>0</td>\n",
       "      <td>1</td>\n",
       "    </tr>\n",
       "  </tbody>\n",
       "</table>\n",
       "</div>"
      ],
      "text/plain": [
       "   unique_value  counts\n",
       "0             1     862\n",
       "1             0       1"
      ]
     },
     "metadata": {},
     "output_type": "display_data"
    }
   ],
   "source": [
    "cols =['symptom3','symptom4','symptom5','symptom6']\n",
    "for i in range (4):\n",
    "    value_counts = df[cols[i]].value_counts(sort=True)\n",
    "    counts = pd.DataFrame(value_counts)\n",
    "    counts_reset = counts.reset_index()\n",
    "    counts_reset.columns = ['unique_value', 'counts']\n",
    "    print(cols[i])\n",
    "    display(counts_reset)"
   ]
  },
  {
   "cell_type": "markdown",
   "id": "11a68b5a",
   "metadata": {},
   "source": [
    "### Conclusion:\n",
    "We can conclude from these tables, that symptom 5 and symptom 6 have no high frequency in any of their values instead of just one value, Therefore, __we can drop these columns as they are not discriminative enough__, and will not contribute in our classification. "
   ]
  },
  {
   "cell_type": "code",
   "execution_count": 10,
   "id": "948cfa26",
   "metadata": {
    "scrolled": true
   },
   "outputs": [
    {
     "data": {
      "text/html": [
       "<div>\n",
       "<style scoped>\n",
       "    .dataframe tbody tr th:only-of-type {\n",
       "        vertical-align: middle;\n",
       "    }\n",
       "\n",
       "    .dataframe tbody tr th {\n",
       "        vertical-align: top;\n",
       "    }\n",
       "\n",
       "    .dataframe thead th {\n",
       "        text-align: right;\n",
       "    }\n",
       "</style>\n",
       "<table border=\"1\" class=\"dataframe\">\n",
       "  <thead>\n",
       "    <tr style=\"text-align: right;\">\n",
       "      <th></th>\n",
       "      <th>location</th>\n",
       "      <th>country</th>\n",
       "      <th>gender</th>\n",
       "      <th>age</th>\n",
       "      <th>vis_wuhan</th>\n",
       "      <th>from_wuhan</th>\n",
       "      <th>symptom1</th>\n",
       "      <th>symptom2</th>\n",
       "      <th>symptom3</th>\n",
       "      <th>symptom4</th>\n",
       "      <th>diff_sym_hos</th>\n",
       "      <th>result</th>\n",
       "    </tr>\n",
       "    <tr>\n",
       "      <th>index</th>\n",
       "      <th></th>\n",
       "      <th></th>\n",
       "      <th></th>\n",
       "      <th></th>\n",
       "      <th></th>\n",
       "      <th></th>\n",
       "      <th></th>\n",
       "      <th></th>\n",
       "      <th></th>\n",
       "      <th></th>\n",
       "      <th></th>\n",
       "      <th></th>\n",
       "    </tr>\n",
       "  </thead>\n",
       "  <tbody>\n",
       "    <tr>\n",
       "      <th>0</th>\n",
       "      <td>104</td>\n",
       "      <td>8</td>\n",
       "      <td>1</td>\n",
       "      <td>66.0</td>\n",
       "      <td>1</td>\n",
       "      <td>0</td>\n",
       "      <td>14</td>\n",
       "      <td>31</td>\n",
       "      <td>19</td>\n",
       "      <td>12</td>\n",
       "      <td>8</td>\n",
       "      <td>1</td>\n",
       "    </tr>\n",
       "    <tr>\n",
       "      <th>1</th>\n",
       "      <td>101</td>\n",
       "      <td>8</td>\n",
       "      <td>0</td>\n",
       "      <td>56.0</td>\n",
       "      <td>0</td>\n",
       "      <td>1</td>\n",
       "      <td>14</td>\n",
       "      <td>31</td>\n",
       "      <td>19</td>\n",
       "      <td>12</td>\n",
       "      <td>0</td>\n",
       "      <td>0</td>\n",
       "    </tr>\n",
       "    <tr>\n",
       "      <th>2</th>\n",
       "      <td>137</td>\n",
       "      <td>8</td>\n",
       "      <td>1</td>\n",
       "      <td>46.0</td>\n",
       "      <td>0</td>\n",
       "      <td>1</td>\n",
       "      <td>14</td>\n",
       "      <td>31</td>\n",
       "      <td>19</td>\n",
       "      <td>12</td>\n",
       "      <td>13</td>\n",
       "      <td>0</td>\n",
       "    </tr>\n",
       "    <tr>\n",
       "      <th>3</th>\n",
       "      <td>116</td>\n",
       "      <td>8</td>\n",
       "      <td>0</td>\n",
       "      <td>60.0</td>\n",
       "      <td>1</td>\n",
       "      <td>0</td>\n",
       "      <td>14</td>\n",
       "      <td>31</td>\n",
       "      <td>19</td>\n",
       "      <td>12</td>\n",
       "      <td>0</td>\n",
       "      <td>0</td>\n",
       "    </tr>\n",
       "    <tr>\n",
       "      <th>4</th>\n",
       "      <td>116</td>\n",
       "      <td>8</td>\n",
       "      <td>1</td>\n",
       "      <td>58.0</td>\n",
       "      <td>0</td>\n",
       "      <td>0</td>\n",
       "      <td>14</td>\n",
       "      <td>31</td>\n",
       "      <td>19</td>\n",
       "      <td>12</td>\n",
       "      <td>0</td>\n",
       "      <td>0</td>\n",
       "    </tr>\n",
       "    <tr>\n",
       "      <th>...</th>\n",
       "      <td>...</td>\n",
       "      <td>...</td>\n",
       "      <td>...</td>\n",
       "      <td>...</td>\n",
       "      <td>...</td>\n",
       "      <td>...</td>\n",
       "      <td>...</td>\n",
       "      <td>...</td>\n",
       "      <td>...</td>\n",
       "      <td>...</td>\n",
       "      <td>...</td>\n",
       "      <td>...</td>\n",
       "    </tr>\n",
       "    <tr>\n",
       "      <th>858</th>\n",
       "      <td>48</td>\n",
       "      <td>3</td>\n",
       "      <td>2</td>\n",
       "      <td>24.0</td>\n",
       "      <td>0</td>\n",
       "      <td>0</td>\n",
       "      <td>14</td>\n",
       "      <td>31</td>\n",
       "      <td>19</td>\n",
       "      <td>12</td>\n",
       "      <td>0</td>\n",
       "      <td>1</td>\n",
       "    </tr>\n",
       "    <tr>\n",
       "      <th>859</th>\n",
       "      <td>0</td>\n",
       "      <td>0</td>\n",
       "      <td>2</td>\n",
       "      <td>35.0</td>\n",
       "      <td>0</td>\n",
       "      <td>0</td>\n",
       "      <td>14</td>\n",
       "      <td>31</td>\n",
       "      <td>19</td>\n",
       "      <td>12</td>\n",
       "      <td>0</td>\n",
       "      <td>0</td>\n",
       "    </tr>\n",
       "    <tr>\n",
       "      <th>860</th>\n",
       "      <td>3</td>\n",
       "      <td>1</td>\n",
       "      <td>1</td>\n",
       "      <td>49.4</td>\n",
       "      <td>0</td>\n",
       "      <td>0</td>\n",
       "      <td>14</td>\n",
       "      <td>31</td>\n",
       "      <td>19</td>\n",
       "      <td>12</td>\n",
       "      <td>0</td>\n",
       "      <td>0</td>\n",
       "    </tr>\n",
       "    <tr>\n",
       "      <th>861</th>\n",
       "      <td>24</td>\n",
       "      <td>9</td>\n",
       "      <td>1</td>\n",
       "      <td>49.4</td>\n",
       "      <td>0</td>\n",
       "      <td>0</td>\n",
       "      <td>14</td>\n",
       "      <td>31</td>\n",
       "      <td>19</td>\n",
       "      <td>12</td>\n",
       "      <td>0</td>\n",
       "      <td>0</td>\n",
       "    </tr>\n",
       "    <tr>\n",
       "      <th>862</th>\n",
       "      <td>15</td>\n",
       "      <td>27</td>\n",
       "      <td>1</td>\n",
       "      <td>70.0</td>\n",
       "      <td>0</td>\n",
       "      <td>0</td>\n",
       "      <td>14</td>\n",
       "      <td>31</td>\n",
       "      <td>19</td>\n",
       "      <td>12</td>\n",
       "      <td>0</td>\n",
       "      <td>0</td>\n",
       "    </tr>\n",
       "  </tbody>\n",
       "</table>\n",
       "<p>863 rows × 12 columns</p>\n",
       "</div>"
      ],
      "text/plain": [
       "       location  country  gender   age  vis_wuhan  from_wuhan  symptom1  \\\n",
       "index                                                                     \n",
       "0           104        8       1  66.0          1           0        14   \n",
       "1           101        8       0  56.0          0           1        14   \n",
       "2           137        8       1  46.0          0           1        14   \n",
       "3           116        8       0  60.0          1           0        14   \n",
       "4           116        8       1  58.0          0           0        14   \n",
       "...         ...      ...     ...   ...        ...         ...       ...   \n",
       "858          48        3       2  24.0          0           0        14   \n",
       "859           0        0       2  35.0          0           0        14   \n",
       "860           3        1       1  49.4          0           0        14   \n",
       "861          24        9       1  49.4          0           0        14   \n",
       "862          15       27       1  70.0          0           0        14   \n",
       "\n",
       "       symptom2  symptom3  symptom4  diff_sym_hos  result  \n",
       "index                                                      \n",
       "0            31        19        12             8       1  \n",
       "1            31        19        12             0       0  \n",
       "2            31        19        12            13       0  \n",
       "3            31        19        12             0       0  \n",
       "4            31        19        12             0       0  \n",
       "...         ...       ...       ...           ...     ...  \n",
       "858          31        19        12             0       1  \n",
       "859          31        19        12             0       0  \n",
       "860          31        19        12             0       0  \n",
       "861          31        19        12             0       0  \n",
       "862          31        19        12             0       0  \n",
       "\n",
       "[863 rows x 12 columns]"
      ]
     },
     "execution_count": 10,
     "metadata": {},
     "output_type": "execute_result"
    }
   ],
   "source": [
    "df = df.drop(columns=['symptom5', 'symptom6'])\n",
    "df"
   ]
  },
  {
   "cell_type": "markdown",
   "id": "8cd398f1",
   "metadata": {},
   "source": [
    "---"
   ]
  },
  {
   "cell_type": "markdown",
   "id": "99e1c84b",
   "metadata": {},
   "source": [
    "## CLASSIFICATION ALGORITHMS:\n",
    "In this section We use KNN, Naive Bayes, and Logistic Regression To classify whether somebody will recorver or not based on the given features. In each of them, we try different preprocessing on the data, and we compare them and nominate the best model from each of the classifiers. Then, at the end, we compare the classifiers based on the nominated model of them to get the best classifier of them on this Dataset.\n",
    "\n",
    "### Scoring Criteria:\n",
    "Our Metric of knowing which model is the best is the fbeta score which is defined as:\n",
    "\n",
    "$$\\frac{((1 + \\beta^2) * Precision * Recall)}{(\\beta^2 * Precision + Recall)}$$\n",
    "\n",
    "This declares that if we want equal importance of recall and precision we can use $\\beta = 1$ Which is the well known f1-score.\n",
    "\n",
    "IF $\\beta = 0.5$ then we give double the weight on precision than the recall.\n",
    "\n",
    "IF $\\beta = 2$ then we give the recall double the weight of the precision.\n",
    "\n",
    "In our case, since this is a medical dataset, and we want to decrease the number of False Negatives then we must give more weight on the recall than the precision, therefore we score based on the f2-score."
   ]
  },
  {
   "cell_type": "markdown",
   "id": "56da33e7",
   "metadata": {},
   "source": [
    "### 1. KNN:\n",
    "In this Section, we use __KNN__ Classifier. We first split the data to train and test sets. Since there is no hyperparameters in this classifier except for knowing the _k_ value. We use our train data to train the model on different values of _k:_ \n",
    "1 up to $\\sqrt{N} $ and compare them to get the best k. \n",
    "Comparing would be upon f2-score as explained above."
   ]
  },
  {
   "cell_type": "markdown",
   "id": "694d4921",
   "metadata": {},
   "source": [
    "### a. Without Any Preprocessing:"
   ]
  },
  {
   "cell_type": "code",
   "execution_count": 11,
   "id": "1f0b3f39",
   "metadata": {},
   "outputs": [
    {
     "data": {
      "text/html": [
       "<div>\n",
       "<style scoped>\n",
       "    .dataframe tbody tr th:only-of-type {\n",
       "        vertical-align: middle;\n",
       "    }\n",
       "\n",
       "    .dataframe tbody tr th {\n",
       "        vertical-align: top;\n",
       "    }\n",
       "\n",
       "    .dataframe thead th {\n",
       "        text-align: right;\n",
       "    }\n",
       "</style>\n",
       "<table border=\"1\" class=\"dataframe\">\n",
       "  <thead>\n",
       "    <tr style=\"text-align: right;\">\n",
       "      <th></th>\n",
       "      <th>location</th>\n",
       "      <th>country</th>\n",
       "      <th>gender</th>\n",
       "      <th>age</th>\n",
       "      <th>vis_wuhan</th>\n",
       "      <th>from_wuhan</th>\n",
       "      <th>symptom1</th>\n",
       "      <th>symptom2</th>\n",
       "      <th>symptom3</th>\n",
       "      <th>symptom4</th>\n",
       "      <th>diff_sym_hos</th>\n",
       "    </tr>\n",
       "    <tr>\n",
       "      <th>index</th>\n",
       "      <th></th>\n",
       "      <th></th>\n",
       "      <th></th>\n",
       "      <th></th>\n",
       "      <th></th>\n",
       "      <th></th>\n",
       "      <th></th>\n",
       "      <th></th>\n",
       "      <th></th>\n",
       "      <th></th>\n",
       "      <th></th>\n",
       "    </tr>\n",
       "  </thead>\n",
       "  <tbody>\n",
       "    <tr>\n",
       "      <th>0</th>\n",
       "      <td>104</td>\n",
       "      <td>8</td>\n",
       "      <td>1</td>\n",
       "      <td>66.0</td>\n",
       "      <td>1</td>\n",
       "      <td>0</td>\n",
       "      <td>14</td>\n",
       "      <td>31</td>\n",
       "      <td>19</td>\n",
       "      <td>12</td>\n",
       "      <td>8</td>\n",
       "    </tr>\n",
       "    <tr>\n",
       "      <th>1</th>\n",
       "      <td>101</td>\n",
       "      <td>8</td>\n",
       "      <td>0</td>\n",
       "      <td>56.0</td>\n",
       "      <td>0</td>\n",
       "      <td>1</td>\n",
       "      <td>14</td>\n",
       "      <td>31</td>\n",
       "      <td>19</td>\n",
       "      <td>12</td>\n",
       "      <td>0</td>\n",
       "    </tr>\n",
       "    <tr>\n",
       "      <th>2</th>\n",
       "      <td>137</td>\n",
       "      <td>8</td>\n",
       "      <td>1</td>\n",
       "      <td>46.0</td>\n",
       "      <td>0</td>\n",
       "      <td>1</td>\n",
       "      <td>14</td>\n",
       "      <td>31</td>\n",
       "      <td>19</td>\n",
       "      <td>12</td>\n",
       "      <td>13</td>\n",
       "    </tr>\n",
       "    <tr>\n",
       "      <th>3</th>\n",
       "      <td>116</td>\n",
       "      <td>8</td>\n",
       "      <td>0</td>\n",
       "      <td>60.0</td>\n",
       "      <td>1</td>\n",
       "      <td>0</td>\n",
       "      <td>14</td>\n",
       "      <td>31</td>\n",
       "      <td>19</td>\n",
       "      <td>12</td>\n",
       "      <td>0</td>\n",
       "    </tr>\n",
       "    <tr>\n",
       "      <th>4</th>\n",
       "      <td>116</td>\n",
       "      <td>8</td>\n",
       "      <td>1</td>\n",
       "      <td>58.0</td>\n",
       "      <td>0</td>\n",
       "      <td>0</td>\n",
       "      <td>14</td>\n",
       "      <td>31</td>\n",
       "      <td>19</td>\n",
       "      <td>12</td>\n",
       "      <td>0</td>\n",
       "    </tr>\n",
       "    <tr>\n",
       "      <th>...</th>\n",
       "      <td>...</td>\n",
       "      <td>...</td>\n",
       "      <td>...</td>\n",
       "      <td>...</td>\n",
       "      <td>...</td>\n",
       "      <td>...</td>\n",
       "      <td>...</td>\n",
       "      <td>...</td>\n",
       "      <td>...</td>\n",
       "      <td>...</td>\n",
       "      <td>...</td>\n",
       "    </tr>\n",
       "    <tr>\n",
       "      <th>858</th>\n",
       "      <td>48</td>\n",
       "      <td>3</td>\n",
       "      <td>2</td>\n",
       "      <td>24.0</td>\n",
       "      <td>0</td>\n",
       "      <td>0</td>\n",
       "      <td>14</td>\n",
       "      <td>31</td>\n",
       "      <td>19</td>\n",
       "      <td>12</td>\n",
       "      <td>0</td>\n",
       "    </tr>\n",
       "    <tr>\n",
       "      <th>859</th>\n",
       "      <td>0</td>\n",
       "      <td>0</td>\n",
       "      <td>2</td>\n",
       "      <td>35.0</td>\n",
       "      <td>0</td>\n",
       "      <td>0</td>\n",
       "      <td>14</td>\n",
       "      <td>31</td>\n",
       "      <td>19</td>\n",
       "      <td>12</td>\n",
       "      <td>0</td>\n",
       "    </tr>\n",
       "    <tr>\n",
       "      <th>860</th>\n",
       "      <td>3</td>\n",
       "      <td>1</td>\n",
       "      <td>1</td>\n",
       "      <td>49.4</td>\n",
       "      <td>0</td>\n",
       "      <td>0</td>\n",
       "      <td>14</td>\n",
       "      <td>31</td>\n",
       "      <td>19</td>\n",
       "      <td>12</td>\n",
       "      <td>0</td>\n",
       "    </tr>\n",
       "    <tr>\n",
       "      <th>861</th>\n",
       "      <td>24</td>\n",
       "      <td>9</td>\n",
       "      <td>1</td>\n",
       "      <td>49.4</td>\n",
       "      <td>0</td>\n",
       "      <td>0</td>\n",
       "      <td>14</td>\n",
       "      <td>31</td>\n",
       "      <td>19</td>\n",
       "      <td>12</td>\n",
       "      <td>0</td>\n",
       "    </tr>\n",
       "    <tr>\n",
       "      <th>862</th>\n",
       "      <td>15</td>\n",
       "      <td>27</td>\n",
       "      <td>1</td>\n",
       "      <td>70.0</td>\n",
       "      <td>0</td>\n",
       "      <td>0</td>\n",
       "      <td>14</td>\n",
       "      <td>31</td>\n",
       "      <td>19</td>\n",
       "      <td>12</td>\n",
       "      <td>0</td>\n",
       "    </tr>\n",
       "  </tbody>\n",
       "</table>\n",
       "<p>863 rows × 11 columns</p>\n",
       "</div>"
      ],
      "text/plain": [
       "       location  country  gender   age  vis_wuhan  from_wuhan  symptom1  \\\n",
       "index                                                                     \n",
       "0           104        8       1  66.0          1           0        14   \n",
       "1           101        8       0  56.0          0           1        14   \n",
       "2           137        8       1  46.0          0           1        14   \n",
       "3           116        8       0  60.0          1           0        14   \n",
       "4           116        8       1  58.0          0           0        14   \n",
       "...         ...      ...     ...   ...        ...         ...       ...   \n",
       "858          48        3       2  24.0          0           0        14   \n",
       "859           0        0       2  35.0          0           0        14   \n",
       "860           3        1       1  49.4          0           0        14   \n",
       "861          24        9       1  49.4          0           0        14   \n",
       "862          15       27       1  70.0          0           0        14   \n",
       "\n",
       "       symptom2  symptom3  symptom4  diff_sym_hos  \n",
       "index                                              \n",
       "0            31        19        12             8  \n",
       "1            31        19        12             0  \n",
       "2            31        19        12            13  \n",
       "3            31        19        12             0  \n",
       "4            31        19        12             0  \n",
       "...         ...       ...       ...           ...  \n",
       "858          31        19        12             0  \n",
       "859          31        19        12             0  \n",
       "860          31        19        12             0  \n",
       "861          31        19        12             0  \n",
       "862          31        19        12             0  \n",
       "\n",
       "[863 rows x 11 columns]"
      ]
     },
     "execution_count": 11,
     "metadata": {},
     "output_type": "execute_result"
    }
   ],
   "source": [
    "y = df['result']\n",
    "X = df.drop(columns=['result'])\n",
    "X"
   ]
  },
  {
   "cell_type": "markdown",
   "id": "f1f46aef",
   "metadata": {},
   "source": [
    "__Train/Test Splitting:__"
   ]
  },
  {
   "cell_type": "code",
   "execution_count": 12,
   "id": "ac7272df",
   "metadata": {},
   "outputs": [],
   "source": [
    "X1_train, X1_test, y1_train, y1_test = train_test_split(X,y,test_size=0.1,random_state=10)"
   ]
  },
  {
   "cell_type": "markdown",
   "id": "2b54e887",
   "metadata": {},
   "source": [
    "__Training on different values of K to get the best Value of K:__"
   ]
  },
  {
   "cell_type": "code",
   "execution_count": 13,
   "id": "949761ed",
   "metadata": {},
   "outputs": [],
   "source": [
    "rec = list()\n",
    "f2 = list()\n",
    "\n",
    "for i in range (1,int(np.sqrt(len(X)))):\n",
    "    knn = KNeighborsClassifier(n_neighbors=i)\n",
    "    knn.fit(X1_train, y1_train)\n",
    "    y_pred_prob = knn.predict_proba(X1_test)\n",
    "    y_pred_prob = y_pred_prob[:, 1]\n",
    "    y_pred = knn.predict(X1_test)\n",
    "    rec.append(recall_score(y1_test, y_pred))\n",
    "    f2.append(fbeta_score(y1_test, y_pred, beta=2))"
   ]
  },
  {
   "cell_type": "markdown",
   "id": "9c1c8703",
   "metadata": {},
   "source": [
    "__Plotting F2-Score and Recall on different Values of K:__"
   ]
  },
  {
   "cell_type": "code",
   "execution_count": 14,
   "id": "118aba29",
   "metadata": {},
   "outputs": [
    {
     "data": {
      "image/png": "[encoded data removed]",
      "text/plain": [
       "<Figure size 432x288 with 1 Axes>"
      ]
     },
     "metadata": {
      "needs_background": "light"
     },
     "output_type": "display_data"
    }
   ],
   "source": [
    "plt.plot(range(1,int(np.sqrt(len(X)))), f2, 'r',label=\"f-2\")\n",
    "plt.plot(range(1,int(np.sqrt(len(X)))), rec, 'b',label =\"Recall\")\n",
    "plt.ylabel(\"Score\")\n",
    "plt.xlabel(\"K\")\n",
    "plt.legend()\n",
    "plt.grid()\n",
    "plt.show()"
   ]
  },
  {
   "cell_type": "code",
   "execution_count": 15,
   "id": "fe6619b9",
   "metadata": {},
   "outputs": [
    {
     "data": {
      "text/plain": [
       "5"
      ]
     },
     "execution_count": 15,
     "metadata": {},
     "output_type": "execute_result"
    }
   ],
   "source": [
    "k=f2.index(max(f2))+1\n",
    "k"
   ]
  },
  {
   "cell_type": "markdown",
   "id": "1fdf4641",
   "metadata": {},
   "source": [
    "__Training the Model on the best value of K:__"
   ]
  },
  {
   "cell_type": "code",
   "execution_count": 16,
   "id": "fa183a56",
   "metadata": {},
   "outputs": [],
   "source": [
    "knn = KNeighborsClassifier(n_neighbors=k)\n",
    "knn.fit(X1_train, y1_train)\n",
    "y_pred_prob = knn.predict_proba(X1_test)\n",
    "y_pred_prob = y_pred_prob[:, 1]\n",
    "y_pred = knn.predict(X1_test)"
   ]
  },
  {
   "cell_type": "markdown",
   "id": "67f62a71",
   "metadata": {},
   "source": [
    "__Displaying Scoring Metrics of the Model:__"
   ]
  },
  {
   "cell_type": "code",
   "execution_count": 17,
   "id": "c186b334",
   "metadata": {},
   "outputs": [
    {
     "name": "stderr",
     "output_type": "stream",
     "text": [
      "C:\\Users\\steve\\miniconda3\\envs\\mlpr\\lib\\site-packages\\sklearn\\utils\\deprecation.py:87: FutureWarning: Function plot_confusion_matrix is deprecated; Function `plot_confusion_matrix` is deprecated in 1.0 and will be removed in 1.2. Use one of the class methods: ConfusionMatrixDisplay.from_predictions or ConfusionMatrixDisplay.from_estimator.\n",
      "  warnings.warn(msg, category=FutureWarning)\n"
     ]
    },
    {
     "data": {
      "image/png": "[encoded data removed]",
      "text/plain": [
       "<Figure size 432x288 with 2 Axes>"
      ]
     },
     "metadata": {
      "needs_background": "light"
     },
     "output_type": "display_data"
    }
   ],
   "source": [
    "disp = plot_confusion_matrix(knn, X1_test, y1_test, cmap ='Blues', values_format='.3g')"
   ]
  },
  {
   "cell_type": "code",
   "execution_count": 18,
   "id": "121f22ff",
   "metadata": {},
   "outputs": [
    {
     "name": "stdout",
     "output_type": "stream",
     "text": [
      "              precision    recall  f1-score   support\n",
      "\n",
      "           0       0.94      0.99      0.96        75\n",
      "           1       0.88      0.58      0.70        12\n",
      "\n",
      "    accuracy                           0.93        87\n",
      "   macro avg       0.91      0.79      0.83        87\n",
      "weighted avg       0.93      0.93      0.93        87\n",
      "\n"
     ]
    }
   ],
   "source": [
    "print (classification_report(y1_test, y_pred))"
   ]
  },
  {
   "cell_type": "code",
   "execution_count": 19,
   "id": "9d307630",
   "metadata": {},
   "outputs": [
    {
     "name": "stdout",
     "output_type": "stream",
     "text": [
      "F2 Score:  0.6250000000000001\n"
     ]
    }
   ],
   "source": [
    "fpr, tpr, thresholds = roc_curve(y1_test, y_pred_prob)\n",
    "Kf2_0 = fbeta_score(y1_test, y_pred, beta=2)\n",
    "Kr0 = recall_score(y1_test, y_pred)\n",
    "Kp0 = precision_score(y1_test, y_pred)\n",
    "Ka0 = roc_auc_score(y1_test,y_pred_prob)\n",
    "print(\"F2 Score: \", Kf2_0)"
   ]
  },
  {
   "cell_type": "code",
   "execution_count": 20,
   "id": "b661cb45",
   "metadata": {},
   "outputs": [
    {
     "name": "stdout",
     "output_type": "stream",
     "text": [
      "Area under ROC:  0.9444444444444444\n"
     ]
    },
    {
     "data": {
      "image/png": "[encoded data removed]",
      "text/plain": [
       "<Figure size 432x288 with 1 Axes>"
      ]
     },
     "metadata": {
      "needs_background": "light"
     },
     "output_type": "display_data"
    }
   ],
   "source": [
    "print(\"Area under ROC: \",roc_auc_score(y1_test, y_pred_prob))\n",
    "plt.plot(fpr, tpr,'r-',label = 'KNN')\n",
    "plt.plot([0,1],[0,1],'k-',label='random')\n",
    "plt.legend()\n",
    "plt.xlabel('False Positive Rate')\n",
    "plt.ylabel('True Positive Rate')\n",
    "plt.title('ROC Curve')\n",
    "plt.show()"
   ]
  },
  {
   "cell_type": "markdown",
   "id": "eeefffa5",
   "metadata": {},
   "source": [
    "### b. With Normalization:"
   ]
  },
  {
   "cell_type": "code",
   "execution_count": 21,
   "id": "d2991d6f",
   "metadata": {},
   "outputs": [],
   "source": [
    "y = df['result']\n",
    "X = df.drop(columns=['result'])"
   ]
  },
  {
   "cell_type": "code",
   "execution_count": 22,
   "id": "f8def1a8",
   "metadata": {},
   "outputs": [
    {
     "data": {
      "text/html": [
       "<div>\n",
       "<style scoped>\n",
       "    .dataframe tbody tr th:only-of-type {\n",
       "        vertical-align: middle;\n",
       "    }\n",
       "\n",
       "    .dataframe tbody tr th {\n",
       "        vertical-align: top;\n",
       "    }\n",
       "\n",
       "    .dataframe thead th {\n",
       "        text-align: right;\n",
       "    }\n",
       "</style>\n",
       "<table border=\"1\" class=\"dataframe\">\n",
       "  <thead>\n",
       "    <tr style=\"text-align: right;\">\n",
       "      <th></th>\n",
       "      <th>location</th>\n",
       "      <th>country</th>\n",
       "      <th>gender</th>\n",
       "      <th>age</th>\n",
       "      <th>vis_wuhan</th>\n",
       "      <th>from_wuhan</th>\n",
       "      <th>symptom1</th>\n",
       "      <th>symptom2</th>\n",
       "      <th>symptom3</th>\n",
       "      <th>symptom4</th>\n",
       "      <th>diff_sym_hos</th>\n",
       "    </tr>\n",
       "    <tr>\n",
       "      <th>index</th>\n",
       "      <th></th>\n",
       "      <th></th>\n",
       "      <th></th>\n",
       "      <th></th>\n",
       "      <th></th>\n",
       "      <th></th>\n",
       "      <th></th>\n",
       "      <th></th>\n",
       "      <th></th>\n",
       "      <th></th>\n",
       "      <th></th>\n",
       "    </tr>\n",
       "  </thead>\n",
       "  <tbody>\n",
       "    <tr>\n",
       "      <th>0</th>\n",
       "      <td>0.753623</td>\n",
       "      <td>0.242424</td>\n",
       "      <td>0.5</td>\n",
       "      <td>0.680851</td>\n",
       "      <td>1.0</td>\n",
       "      <td>0.0</td>\n",
       "      <td>0.583333</td>\n",
       "      <td>1.0</td>\n",
       "      <td>1.0</td>\n",
       "      <td>1.0</td>\n",
       "      <td>0.65</td>\n",
       "    </tr>\n",
       "    <tr>\n",
       "      <th>1</th>\n",
       "      <td>0.731884</td>\n",
       "      <td>0.242424</td>\n",
       "      <td>0.0</td>\n",
       "      <td>0.574468</td>\n",
       "      <td>0.0</td>\n",
       "      <td>1.0</td>\n",
       "      <td>0.583333</td>\n",
       "      <td>1.0</td>\n",
       "      <td>1.0</td>\n",
       "      <td>1.0</td>\n",
       "      <td>0.25</td>\n",
       "    </tr>\n",
       "    <tr>\n",
       "      <th>2</th>\n",
       "      <td>0.992754</td>\n",
       "      <td>0.242424</td>\n",
       "      <td>0.5</td>\n",
       "      <td>0.468085</td>\n",
       "      <td>0.0</td>\n",
       "      <td>1.0</td>\n",
       "      <td>0.583333</td>\n",
       "      <td>1.0</td>\n",
       "      <td>1.0</td>\n",
       "      <td>1.0</td>\n",
       "      <td>0.90</td>\n",
       "    </tr>\n",
       "    <tr>\n",
       "      <th>3</th>\n",
       "      <td>0.840580</td>\n",
       "      <td>0.242424</td>\n",
       "      <td>0.0</td>\n",
       "      <td>0.617021</td>\n",
       "      <td>1.0</td>\n",
       "      <td>0.0</td>\n",
       "      <td>0.583333</td>\n",
       "      <td>1.0</td>\n",
       "      <td>1.0</td>\n",
       "      <td>1.0</td>\n",
       "      <td>0.25</td>\n",
       "    </tr>\n",
       "    <tr>\n",
       "      <th>4</th>\n",
       "      <td>0.840580</td>\n",
       "      <td>0.242424</td>\n",
       "      <td>0.5</td>\n",
       "      <td>0.595745</td>\n",
       "      <td>0.0</td>\n",
       "      <td>0.0</td>\n",
       "      <td>0.583333</td>\n",
       "      <td>1.0</td>\n",
       "      <td>1.0</td>\n",
       "      <td>1.0</td>\n",
       "      <td>0.25</td>\n",
       "    </tr>\n",
       "    <tr>\n",
       "      <th>...</th>\n",
       "      <td>...</td>\n",
       "      <td>...</td>\n",
       "      <td>...</td>\n",
       "      <td>...</td>\n",
       "      <td>...</td>\n",
       "      <td>...</td>\n",
       "      <td>...</td>\n",
       "      <td>...</td>\n",
       "      <td>...</td>\n",
       "      <td>...</td>\n",
       "      <td>...</td>\n",
       "    </tr>\n",
       "    <tr>\n",
       "      <th>858</th>\n",
       "      <td>0.347826</td>\n",
       "      <td>0.090909</td>\n",
       "      <td>1.0</td>\n",
       "      <td>0.234043</td>\n",
       "      <td>0.0</td>\n",
       "      <td>0.0</td>\n",
       "      <td>0.583333</td>\n",
       "      <td>1.0</td>\n",
       "      <td>1.0</td>\n",
       "      <td>1.0</td>\n",
       "      <td>0.25</td>\n",
       "    </tr>\n",
       "    <tr>\n",
       "      <th>859</th>\n",
       "      <td>0.000000</td>\n",
       "      <td>0.000000</td>\n",
       "      <td>1.0</td>\n",
       "      <td>0.351064</td>\n",
       "      <td>0.0</td>\n",
       "      <td>0.0</td>\n",
       "      <td>0.583333</td>\n",
       "      <td>1.0</td>\n",
       "      <td>1.0</td>\n",
       "      <td>1.0</td>\n",
       "      <td>0.25</td>\n",
       "    </tr>\n",
       "    <tr>\n",
       "      <th>860</th>\n",
       "      <td>0.021739</td>\n",
       "      <td>0.030303</td>\n",
       "      <td>0.5</td>\n",
       "      <td>0.504255</td>\n",
       "      <td>0.0</td>\n",
       "      <td>0.0</td>\n",
       "      <td>0.583333</td>\n",
       "      <td>1.0</td>\n",
       "      <td>1.0</td>\n",
       "      <td>1.0</td>\n",
       "      <td>0.25</td>\n",
       "    </tr>\n",
       "    <tr>\n",
       "      <th>861</th>\n",
       "      <td>0.173913</td>\n",
       "      <td>0.272727</td>\n",
       "      <td>0.5</td>\n",
       "      <td>0.504255</td>\n",
       "      <td>0.0</td>\n",
       "      <td>0.0</td>\n",
       "      <td>0.583333</td>\n",
       "      <td>1.0</td>\n",
       "      <td>1.0</td>\n",
       "      <td>1.0</td>\n",
       "      <td>0.25</td>\n",
       "    </tr>\n",
       "    <tr>\n",
       "      <th>862</th>\n",
       "      <td>0.108696</td>\n",
       "      <td>0.818182</td>\n",
       "      <td>0.5</td>\n",
       "      <td>0.723404</td>\n",
       "      <td>0.0</td>\n",
       "      <td>0.0</td>\n",
       "      <td>0.583333</td>\n",
       "      <td>1.0</td>\n",
       "      <td>1.0</td>\n",
       "      <td>1.0</td>\n",
       "      <td>0.25</td>\n",
       "    </tr>\n",
       "  </tbody>\n",
       "</table>\n",
       "<p>863 rows × 11 columns</p>\n",
       "</div>"
      ],
      "text/plain": [
       "       location   country  gender       age  vis_wuhan  from_wuhan  symptom1  \\\n",
       "index                                                                          \n",
       "0      0.753623  0.242424     0.5  0.680851        1.0         0.0  0.583333   \n",
       "1      0.731884  0.242424     0.0  0.574468        0.0         1.0  0.583333   \n",
       "2      0.992754  0.242424     0.5  0.468085        0.0         1.0  0.583333   \n",
       "3      0.840580  0.242424     0.0  0.617021        1.0         0.0  0.583333   \n",
       "4      0.840580  0.242424     0.5  0.595745        0.0         0.0  0.583333   \n",
       "...         ...       ...     ...       ...        ...         ...       ...   \n",
       "858    0.347826  0.090909     1.0  0.234043        0.0         0.0  0.583333   \n",
       "859    0.000000  0.000000     1.0  0.351064        0.0         0.0  0.583333   \n",
       "860    0.021739  0.030303     0.5  0.504255        0.0         0.0  0.583333   \n",
       "861    0.173913  0.272727     0.5  0.504255        0.0         0.0  0.583333   \n",
       "862    0.108696  0.818182     0.5  0.723404        0.0         0.0  0.583333   \n",
       "\n",
       "       symptom2  symptom3  symptom4  diff_sym_hos  \n",
       "index                                              \n",
       "0           1.0       1.0       1.0          0.65  \n",
       "1           1.0       1.0       1.0          0.25  \n",
       "2           1.0       1.0       1.0          0.90  \n",
       "3           1.0       1.0       1.0          0.25  \n",
       "4           1.0       1.0       1.0          0.25  \n",
       "...         ...       ...       ...           ...  \n",
       "858         1.0       1.0       1.0          0.25  \n",
       "859         1.0       1.0       1.0          0.25  \n",
       "860         1.0       1.0       1.0          0.25  \n",
       "861         1.0       1.0       1.0          0.25  \n",
       "862         1.0       1.0       1.0          0.25  \n",
       "\n",
       "[863 rows x 11 columns]"
      ]
     },
     "execution_count": 22,
     "metadata": {},
     "output_type": "execute_result"
    }
   ],
   "source": [
    "scaler = MinMaxScaler(feature_range = (0,1)) \n",
    "scaled_values = scaler.fit_transform(X) \n",
    "X.loc[:,:] = scaled_values\n",
    "X"
   ]
  },
  {
   "cell_type": "markdown",
   "id": "6bb50544",
   "metadata": {},
   "source": [
    "__Train/Test Splitting:__"
   ]
  },
  {
   "cell_type": "code",
   "execution_count": 23,
   "id": "209ae5f7",
   "metadata": {},
   "outputs": [],
   "source": [
    "X1_train, X1_test, y1_train, y1_test = train_test_split(X,y,test_size=0.1,random_state=10)"
   ]
  },
  {
   "cell_type": "markdown",
   "id": "2ec3bb13",
   "metadata": {},
   "source": [
    "__Training on different values of K to get the best Value of K:__"
   ]
  },
  {
   "cell_type": "code",
   "execution_count": 24,
   "id": "56245664",
   "metadata": {},
   "outputs": [],
   "source": [
    "f2 = list()\n",
    "rec = list()\n",
    "for i in range (1,int(np.sqrt(len(X)))):\n",
    "    knn = KNeighborsClassifier(n_neighbors=i)\n",
    "    knn.fit(X1_train, y1_train)\n",
    "    y_pred_prob = knn.predict_proba(X1_test)\n",
    "    y_pred_prob = y_pred_prob[:, 1]\n",
    "    y_pred = knn.predict(X1_test)\n",
    "    rec.append(recall_score(y1_test, y_pred))\n",
    "    f2.append(fbeta_score(y1_test, y_pred, beta=2))"
   ]
  },
  {
   "cell_type": "markdown",
   "id": "a2ce5c85",
   "metadata": {},
   "source": [
    "__Plotting F2-Score and Recall on different Values of K:__"
   ]
  },
  {
   "cell_type": "code",
   "execution_count": 25,
   "id": "85977f57",
   "metadata": {},
   "outputs": [
    {
     "data": {
      "image/png": "[encoded data removed]",
      "text/plain": [
       "<Figure size 432x288 with 1 Axes>"
      ]
     },
     "metadata": {
      "needs_background": "light"
     },
     "output_type": "display_data"
    }
   ],
   "source": [
    "plt.plot(range(1,int(np.sqrt(len(X)))), f2, 'r',label=\"f-2\")\n",
    "plt.plot(range(1,int(np.sqrt(len(X)))), rec, 'b',label =\"Recall\")\n",
    "plt.ylabel(\"Score\")\n",
    "plt.xlabel(\"K\")\n",
    "plt.legend()\n",
    "plt.grid()\n",
    "plt.show()"
   ]
  },
  {
   "cell_type": "code",
   "execution_count": 26,
   "id": "ad60513a",
   "metadata": {},
   "outputs": [
    {
     "data": {
      "text/plain": [
       "3"
      ]
     },
     "execution_count": 26,
     "metadata": {},
     "output_type": "execute_result"
    }
   ],
   "source": [
    "k=f2.index(max(f2))+1\n",
    "k"
   ]
  },
  {
   "cell_type": "markdown",
   "id": "a9e78c95",
   "metadata": {},
   "source": [
    "__Training the Model on the best value of K:__"
   ]
  },
  {
   "cell_type": "code",
   "execution_count": 27,
   "id": "3572e165",
   "metadata": {},
   "outputs": [],
   "source": [
    "knn = KNeighborsClassifier(n_neighbors=k)\n",
    "knn.fit(X1_train, y1_train)\n",
    "y_pred_prob = knn.predict_proba(X1_test)\n",
    "y_pred_prob = y_pred_prob[:, 1]\n",
    "y_pred = knn.predict(X1_test)"
   ]
  },
  {
   "cell_type": "markdown",
   "id": "e7cdc007",
   "metadata": {},
   "source": [
    "__Displaying Scoring Metrics of the Model:__"
   ]
  },
  {
   "cell_type": "code",
   "execution_count": 28,
   "id": "e2d59616",
   "metadata": {},
   "outputs": [
    {
     "name": "stderr",
     "output_type": "stream",
     "text": [
      "C:\\Users\\steve\\miniconda3\\envs\\mlpr\\lib\\site-packages\\sklearn\\utils\\deprecation.py:87: FutureWarning: Function plot_confusion_matrix is deprecated; Function `plot_confusion_matrix` is deprecated in 1.0 and will be removed in 1.2. Use one of the class methods: ConfusionMatrixDisplay.from_predictions or ConfusionMatrixDisplay.from_estimator.\n",
      "  warnings.warn(msg, category=FutureWarning)\n"
     ]
    },
    {
     "data": {
      "image/png": "[encoded data removed]",
      "text/plain": [
       "<Figure size 432x288 with 2 Axes>"
      ]
     },
     "metadata": {
      "needs_background": "light"
     },
     "output_type": "display_data"
    }
   ],
   "source": [
    "disp = plot_confusion_matrix(knn, X1_test, y1_test, cmap ='Blues', values_format='.3g')"
   ]
  },
  {
   "cell_type": "code",
   "execution_count": 29,
   "id": "9ec2f43b",
   "metadata": {},
   "outputs": [
    {
     "name": "stdout",
     "output_type": "stream",
     "text": [
      "              precision    recall  f1-score   support\n",
      "\n",
      "           0       0.97      1.00      0.99        75\n",
      "           1       1.00      0.83      0.91        12\n",
      "\n",
      "    accuracy                           0.98        87\n",
      "   macro avg       0.99      0.92      0.95        87\n",
      "weighted avg       0.98      0.98      0.98        87\n",
      "\n"
     ]
    }
   ],
   "source": [
    "print (classification_report(y1_test, y_pred))"
   ]
  },
  {
   "cell_type": "code",
   "execution_count": 30,
   "id": "54a15ce4",
   "metadata": {},
   "outputs": [
    {
     "name": "stdout",
     "output_type": "stream",
     "text": [
      "F2 Score:  0.8620689655172415\n"
     ]
    }
   ],
   "source": [
    "fpr, tpr, thresholds = roc_curve(y1_test, y_pred_prob)\n",
    "Kf2_1 = fbeta_score(y1_test, y_pred, beta=2)\n",
    "Kr1 = recall_score(y1_test, y_pred)\n",
    "Kp1 = precision_score(y1_test, y_pred)\n",
    "Ka1 = roc_auc_score(y1_test,y_pred_prob)\n",
    "print(\"F2 Score: \", Kf2_1)"
   ]
  },
  {
   "cell_type": "code",
   "execution_count": 31,
   "id": "efd6cbc7",
   "metadata": {},
   "outputs": [
    {
     "name": "stdout",
     "output_type": "stream",
     "text": [
      "Area under ROC:  0.9100000000000001\n"
     ]
    },
    {
     "data": {
      "image/png": "[encoded data removed]",
      "text/plain": [
       "<Figure size 432x288 with 1 Axes>"
      ]
     },
     "metadata": {
      "needs_background": "light"
     },
     "output_type": "display_data"
    }
   ],
   "source": [
    "print(\"Area under ROC: \",roc_auc_score(y1_test, y_pred_prob))\n",
    "plt.plot(fpr, tpr,'r-',label = 'KNN')\n",
    "plt.plot([0,1],[0,1],'k-',label='random')\n",
    "plt.legend()\n",
    "plt.xlabel('False Positive Rate')\n",
    "plt.ylabel('True Positive Rate')\n",
    "plt.title(\"ROC Curve\")\n",
    "plt.show()"
   ]
  },
  {
   "cell_type": "markdown",
   "id": "8d4673e5",
   "metadata": {},
   "source": [
    "### b. With One-Hot Encoding:"
   ]
  },
  {
   "cell_type": "code",
   "execution_count": 32,
   "id": "bf4b4e62",
   "metadata": {},
   "outputs": [],
   "source": [
    "y = df['result']\n",
    "X = df.drop(columns=['result'])"
   ]
  },
  {
   "cell_type": "code",
   "execution_count": 33,
   "id": "50a34670",
   "metadata": {},
   "outputs": [
    {
     "data": {
      "text/html": [
       "<div>\n",
       "<style scoped>\n",
       "    .dataframe tbody tr th:only-of-type {\n",
       "        vertical-align: middle;\n",
       "    }\n",
       "\n",
       "    .dataframe tbody tr th {\n",
       "        vertical-align: top;\n",
       "    }\n",
       "\n",
       "    .dataframe thead th {\n",
       "        text-align: right;\n",
       "    }\n",
       "</style>\n",
       "<table border=\"1\" class=\"dataframe\">\n",
       "  <thead>\n",
       "    <tr style=\"text-align: right;\">\n",
       "      <th></th>\n",
       "      <th>age</th>\n",
       "      <th>vis_wuhan</th>\n",
       "      <th>from_wuhan</th>\n",
       "      <th>symptom1</th>\n",
       "      <th>symptom2</th>\n",
       "      <th>symptom3</th>\n",
       "      <th>symptom4</th>\n",
       "      <th>diff_sym_hos</th>\n",
       "      <th>gender_0</th>\n",
       "      <th>gender_1</th>\n",
       "      <th>...</th>\n",
       "      <th>country_24</th>\n",
       "      <th>country_25</th>\n",
       "      <th>country_26</th>\n",
       "      <th>country_27</th>\n",
       "      <th>country_28</th>\n",
       "      <th>country_29</th>\n",
       "      <th>country_30</th>\n",
       "      <th>country_31</th>\n",
       "      <th>country_32</th>\n",
       "      <th>country_33</th>\n",
       "    </tr>\n",
       "    <tr>\n",
       "      <th>index</th>\n",
       "      <th></th>\n",
       "      <th></th>\n",
       "      <th></th>\n",
       "      <th></th>\n",
       "      <th></th>\n",
       "      <th></th>\n",
       "      <th></th>\n",
       "      <th></th>\n",
       "      <th></th>\n",
       "      <th></th>\n",
       "      <th></th>\n",
       "      <th></th>\n",
       "      <th></th>\n",
       "      <th></th>\n",
       "      <th></th>\n",
       "      <th></th>\n",
       "      <th></th>\n",
       "      <th></th>\n",
       "      <th></th>\n",
       "      <th></th>\n",
       "      <th></th>\n",
       "    </tr>\n",
       "  </thead>\n",
       "  <tbody>\n",
       "    <tr>\n",
       "      <th>0</th>\n",
       "      <td>66.0</td>\n",
       "      <td>1</td>\n",
       "      <td>0</td>\n",
       "      <td>14</td>\n",
       "      <td>31</td>\n",
       "      <td>19</td>\n",
       "      <td>12</td>\n",
       "      <td>8</td>\n",
       "      <td>0</td>\n",
       "      <td>1</td>\n",
       "      <td>...</td>\n",
       "      <td>0</td>\n",
       "      <td>0</td>\n",
       "      <td>0</td>\n",
       "      <td>0</td>\n",
       "      <td>0</td>\n",
       "      <td>0</td>\n",
       "      <td>0</td>\n",
       "      <td>0</td>\n",
       "      <td>0</td>\n",
       "      <td>0</td>\n",
       "    </tr>\n",
       "    <tr>\n",
       "      <th>1</th>\n",
       "      <td>56.0</td>\n",
       "      <td>0</td>\n",
       "      <td>1</td>\n",
       "      <td>14</td>\n",
       "      <td>31</td>\n",
       "      <td>19</td>\n",
       "      <td>12</td>\n",
       "      <td>0</td>\n",
       "      <td>1</td>\n",
       "      <td>0</td>\n",
       "      <td>...</td>\n",
       "      <td>0</td>\n",
       "      <td>0</td>\n",
       "      <td>0</td>\n",
       "      <td>0</td>\n",
       "      <td>0</td>\n",
       "      <td>0</td>\n",
       "      <td>0</td>\n",
       "      <td>0</td>\n",
       "      <td>0</td>\n",
       "      <td>0</td>\n",
       "    </tr>\n",
       "    <tr>\n",
       "      <th>2</th>\n",
       "      <td>46.0</td>\n",
       "      <td>0</td>\n",
       "      <td>1</td>\n",
       "      <td>14</td>\n",
       "      <td>31</td>\n",
       "      <td>19</td>\n",
       "      <td>12</td>\n",
       "      <td>13</td>\n",
       "      <td>0</td>\n",
       "      <td>1</td>\n",
       "      <td>...</td>\n",
       "      <td>0</td>\n",
       "      <td>0</td>\n",
       "      <td>0</td>\n",
       "      <td>0</td>\n",
       "      <td>0</td>\n",
       "      <td>0</td>\n",
       "      <td>0</td>\n",
       "      <td>0</td>\n",
       "      <td>0</td>\n",
       "      <td>0</td>\n",
       "    </tr>\n",
       "    <tr>\n",
       "      <th>3</th>\n",
       "      <td>60.0</td>\n",
       "      <td>1</td>\n",
       "      <td>0</td>\n",
       "      <td>14</td>\n",
       "      <td>31</td>\n",
       "      <td>19</td>\n",
       "      <td>12</td>\n",
       "      <td>0</td>\n",
       "      <td>1</td>\n",
       "      <td>0</td>\n",
       "      <td>...</td>\n",
       "      <td>0</td>\n",
       "      <td>0</td>\n",
       "      <td>0</td>\n",
       "      <td>0</td>\n",
       "      <td>0</td>\n",
       "      <td>0</td>\n",
       "      <td>0</td>\n",
       "      <td>0</td>\n",
       "      <td>0</td>\n",
       "      <td>0</td>\n",
       "    </tr>\n",
       "    <tr>\n",
       "      <th>4</th>\n",
       "      <td>58.0</td>\n",
       "      <td>0</td>\n",
       "      <td>0</td>\n",
       "      <td>14</td>\n",
       "      <td>31</td>\n",
       "      <td>19</td>\n",
       "      <td>12</td>\n",
       "      <td>0</td>\n",
       "      <td>0</td>\n",
       "      <td>1</td>\n",
       "      <td>...</td>\n",
       "      <td>0</td>\n",
       "      <td>0</td>\n",
       "      <td>0</td>\n",
       "      <td>0</td>\n",
       "      <td>0</td>\n",
       "      <td>0</td>\n",
       "      <td>0</td>\n",
       "      <td>0</td>\n",
       "      <td>0</td>\n",
       "      <td>0</td>\n",
       "    </tr>\n",
       "    <tr>\n",
       "      <th>...</th>\n",
       "      <td>...</td>\n",
       "      <td>...</td>\n",
       "      <td>...</td>\n",
       "      <td>...</td>\n",
       "      <td>...</td>\n",
       "      <td>...</td>\n",
       "      <td>...</td>\n",
       "      <td>...</td>\n",
       "      <td>...</td>\n",
       "      <td>...</td>\n",
       "      <td>...</td>\n",
       "      <td>...</td>\n",
       "      <td>...</td>\n",
       "      <td>...</td>\n",
       "      <td>...</td>\n",
       "      <td>...</td>\n",
       "      <td>...</td>\n",
       "      <td>...</td>\n",
       "      <td>...</td>\n",
       "      <td>...</td>\n",
       "      <td>...</td>\n",
       "    </tr>\n",
       "    <tr>\n",
       "      <th>858</th>\n",
       "      <td>24.0</td>\n",
       "      <td>0</td>\n",
       "      <td>0</td>\n",
       "      <td>14</td>\n",
       "      <td>31</td>\n",
       "      <td>19</td>\n",
       "      <td>12</td>\n",
       "      <td>0</td>\n",
       "      <td>0</td>\n",
       "      <td>0</td>\n",
       "      <td>...</td>\n",
       "      <td>0</td>\n",
       "      <td>0</td>\n",
       "      <td>0</td>\n",
       "      <td>0</td>\n",
       "      <td>0</td>\n",
       "      <td>0</td>\n",
       "      <td>0</td>\n",
       "      <td>0</td>\n",
       "      <td>0</td>\n",
       "      <td>0</td>\n",
       "    </tr>\n",
       "    <tr>\n",
       "      <th>859</th>\n",
       "      <td>35.0</td>\n",
       "      <td>0</td>\n",
       "      <td>0</td>\n",
       "      <td>14</td>\n",
       "      <td>31</td>\n",
       "      <td>19</td>\n",
       "      <td>12</td>\n",
       "      <td>0</td>\n",
       "      <td>0</td>\n",
       "      <td>0</td>\n",
       "      <td>...</td>\n",
       "      <td>0</td>\n",
       "      <td>0</td>\n",
       "      <td>0</td>\n",
       "      <td>0</td>\n",
       "      <td>0</td>\n",
       "      <td>0</td>\n",
       "      <td>0</td>\n",
       "      <td>0</td>\n",
       "      <td>0</td>\n",
       "      <td>0</td>\n",
       "    </tr>\n",
       "    <tr>\n",
       "      <th>860</th>\n",
       "      <td>49.4</td>\n",
       "      <td>0</td>\n",
       "      <td>0</td>\n",
       "      <td>14</td>\n",
       "      <td>31</td>\n",
       "      <td>19</td>\n",
       "      <td>12</td>\n",
       "      <td>0</td>\n",
       "      <td>0</td>\n",
       "      <td>1</td>\n",
       "      <td>...</td>\n",
       "      <td>0</td>\n",
       "      <td>0</td>\n",
       "      <td>0</td>\n",
       "      <td>0</td>\n",
       "      <td>0</td>\n",
       "      <td>0</td>\n",
       "      <td>0</td>\n",
       "      <td>0</td>\n",
       "      <td>0</td>\n",
       "      <td>0</td>\n",
       "    </tr>\n",
       "    <tr>\n",
       "      <th>861</th>\n",
       "      <td>49.4</td>\n",
       "      <td>0</td>\n",
       "      <td>0</td>\n",
       "      <td>14</td>\n",
       "      <td>31</td>\n",
       "      <td>19</td>\n",
       "      <td>12</td>\n",
       "      <td>0</td>\n",
       "      <td>0</td>\n",
       "      <td>1</td>\n",
       "      <td>...</td>\n",
       "      <td>0</td>\n",
       "      <td>0</td>\n",
       "      <td>0</td>\n",
       "      <td>0</td>\n",
       "      <td>0</td>\n",
       "      <td>0</td>\n",
       "      <td>0</td>\n",
       "      <td>0</td>\n",
       "      <td>0</td>\n",
       "      <td>0</td>\n",
       "    </tr>\n",
       "    <tr>\n",
       "      <th>862</th>\n",
       "      <td>70.0</td>\n",
       "      <td>0</td>\n",
       "      <td>0</td>\n",
       "      <td>14</td>\n",
       "      <td>31</td>\n",
       "      <td>19</td>\n",
       "      <td>12</td>\n",
       "      <td>0</td>\n",
       "      <td>0</td>\n",
       "      <td>1</td>\n",
       "      <td>...</td>\n",
       "      <td>0</td>\n",
       "      <td>0</td>\n",
       "      <td>0</td>\n",
       "      <td>1</td>\n",
       "      <td>0</td>\n",
       "      <td>0</td>\n",
       "      <td>0</td>\n",
       "      <td>0</td>\n",
       "      <td>0</td>\n",
       "      <td>0</td>\n",
       "    </tr>\n",
       "  </tbody>\n",
       "</table>\n",
       "<p>863 rows × 184 columns</p>\n",
       "</div>"
      ],
      "text/plain": [
       "        age  vis_wuhan  from_wuhan  symptom1  symptom2  symptom3  symptom4  \\\n",
       "index                                                                        \n",
       "0      66.0          1           0        14        31        19        12   \n",
       "1      56.0          0           1        14        31        19        12   \n",
       "2      46.0          0           1        14        31        19        12   \n",
       "3      60.0          1           0        14        31        19        12   \n",
       "4      58.0          0           0        14        31        19        12   \n",
       "...     ...        ...         ...       ...       ...       ...       ...   \n",
       "858    24.0          0           0        14        31        19        12   \n",
       "859    35.0          0           0        14        31        19        12   \n",
       "860    49.4          0           0        14        31        19        12   \n",
       "861    49.4          0           0        14        31        19        12   \n",
       "862    70.0          0           0        14        31        19        12   \n",
       "\n",
       "       diff_sym_hos  gender_0  gender_1  ...  country_24  country_25  \\\n",
       "index                                    ...                           \n",
       "0                 8         0         1  ...           0           0   \n",
       "1                 0         1         0  ...           0           0   \n",
       "2                13         0         1  ...           0           0   \n",
       "3                 0         1         0  ...           0           0   \n",
       "4                 0         0         1  ...           0           0   \n",
       "...             ...       ...       ...  ...         ...         ...   \n",
       "858               0         0         0  ...           0           0   \n",
       "859               0         0         0  ...           0           0   \n",
       "860               0         0         1  ...           0           0   \n",
       "861               0         0         1  ...           0           0   \n",
       "862               0         0         1  ...           0           0   \n",
       "\n",
       "       country_26  country_27  country_28  country_29  country_30  country_31  \\\n",
       "index                                                                           \n",
       "0               0           0           0           0           0           0   \n",
       "1               0           0           0           0           0           0   \n",
       "2               0           0           0           0           0           0   \n",
       "3               0           0           0           0           0           0   \n",
       "4               0           0           0           0           0           0   \n",
       "...           ...         ...         ...         ...         ...         ...   \n",
       "858             0           0           0           0           0           0   \n",
       "859             0           0           0           0           0           0   \n",
       "860             0           0           0           0           0           0   \n",
       "861             0           0           0           0           0           0   \n",
       "862             0           1           0           0           0           0   \n",
       "\n",
       "       country_32  country_33  \n",
       "index                          \n",
       "0               0           0  \n",
       "1               0           0  \n",
       "2               0           0  \n",
       "3               0           0  \n",
       "4               0           0  \n",
       "...           ...         ...  \n",
       "858             0           0  \n",
       "859             0           0  \n",
       "860             0           0  \n",
       "861             0           0  \n",
       "862             0           0  \n",
       "\n",
       "[863 rows x 184 columns]"
      ]
     },
     "execution_count": 33,
     "metadata": {},
     "output_type": "execute_result"
    }
   ],
   "source": [
    "var=pd.get_dummies(X,columns =\t[\"gender\",\"location\",\"country\"])\n",
    "X=pd.DataFrame(data=var)\n",
    "X"
   ]
  },
  {
   "cell_type": "markdown",
   "id": "9f5fe556",
   "metadata": {},
   "source": [
    "__Train/Test Split:__"
   ]
  },
  {
   "cell_type": "code",
   "execution_count": 34,
   "id": "ff718b35",
   "metadata": {},
   "outputs": [],
   "source": [
    "X1_train, X1_test, y1_train, y1_test = train_test_split(X,y,test_size=0.1,random_state=10)"
   ]
  },
  {
   "cell_type": "markdown",
   "id": "a1a8ba95",
   "metadata": {},
   "source": [
    "__Training on different values of K to get the best Value of K:__"
   ]
  },
  {
   "cell_type": "code",
   "execution_count": 35,
   "id": "0a0ee143",
   "metadata": {},
   "outputs": [],
   "source": [
    "f2 = list()\n",
    "rec = list()\n",
    "for i in range (1,int(np.sqrt(len(X)))):\n",
    "    knn = KNeighborsClassifier(n_neighbors=i)\n",
    "    knn.fit(X1_train, y1_train)\n",
    "    y_pred_prob = knn.predict_proba(X1_test)\n",
    "    y_pred_prob = y_pred_prob[:, 1]\n",
    "    y_pred = knn.predict(X1_test)\n",
    "    rec.append(recall_score(y1_test, y_pred))\n",
    "    f2.append(fbeta_score(y1_test, y_pred, beta=2))"
   ]
  },
  {
   "cell_type": "markdown",
   "id": "f741ed8a",
   "metadata": {},
   "source": [
    "__Plotting F2-Score and Recall on different Values of K:__"
   ]
  },
  {
   "cell_type": "code",
   "execution_count": 36,
   "id": "4b34f88d",
   "metadata": {},
   "outputs": [
    {
     "data": {
      "image/png": "[encoded data removed]",
      "text/plain": [
       "<Figure size 432x288 with 1 Axes>"
      ]
     },
     "metadata": {
      "needs_background": "light"
     },
     "output_type": "display_data"
    }
   ],
   "source": [
    "plt.plot(range(1,int(np.sqrt(len(X)))), f2, 'r',label=\"f-2\")\n",
    "plt.plot(range(1,int(np.sqrt(len(X)))), rec, 'b',label =\"Recall\")\n",
    "plt.ylabel(\"Score\")\n",
    "plt.xlabel(\"K\")\n",
    "plt.legend()\n",
    "plt.grid()\n",
    "plt.show()"
   ]
  },
  {
   "cell_type": "code",
   "execution_count": 37,
   "id": "16ae905d",
   "metadata": {},
   "outputs": [
    {
     "data": {
      "text/plain": [
       "3"
      ]
     },
     "execution_count": 37,
     "metadata": {},
     "output_type": "execute_result"
    }
   ],
   "source": [
    "k=f2.index(max(f2))+1\n",
    "k"
   ]
  },
  {
   "cell_type": "markdown",
   "id": "9719b5a2",
   "metadata": {},
   "source": [
    "__Training the Model on the best value of K:__"
   ]
  },
  {
   "cell_type": "code",
   "execution_count": 38,
   "id": "7c3d380e",
   "metadata": {},
   "outputs": [],
   "source": [
    "knn = KNeighborsClassifier(n_neighbors=k)\n",
    "knn.fit(X1_train, y1_train)\n",
    "y_pred_prob = knn.predict_proba(X1_test)\n",
    "y_pred_prob = y_pred_prob[:, 1]\n",
    "y_pred = knn.predict(X1_test)"
   ]
  },
  {
   "cell_type": "markdown",
   "id": "f370a42f",
   "metadata": {},
   "source": [
    "__Displaying Scoring Metrics of the Model:__"
   ]
  },
  {
   "cell_type": "code",
   "execution_count": 39,
   "id": "ea63f0c8",
   "metadata": {},
   "outputs": [
    {
     "name": "stderr",
     "output_type": "stream",
     "text": [
      "C:\\Users\\steve\\miniconda3\\envs\\mlpr\\lib\\site-packages\\sklearn\\utils\\deprecation.py:87: FutureWarning: Function plot_confusion_matrix is deprecated; Function `plot_confusion_matrix` is deprecated in 1.0 and will be removed in 1.2. Use one of the class methods: ConfusionMatrixDisplay.from_predictions or ConfusionMatrixDisplay.from_estimator.\n",
      "  warnings.warn(msg, category=FutureWarning)\n"
     ]
    },
    {
     "data": {
      "image/png": "[encoded data removed]",
      "text/plain": [
       "<Figure size 432x288 with 2 Axes>"
      ]
     },
     "metadata": {
      "needs_background": "light"
     },
     "output_type": "display_data"
    }
   ],
   "source": [
    "disp = plot_confusion_matrix(knn, X1_test, y1_test, cmap ='Blues', values_format='.3g')"
   ]
  },
  {
   "cell_type": "code",
   "execution_count": 40,
   "id": "8d551518",
   "metadata": {},
   "outputs": [
    {
     "name": "stdout",
     "output_type": "stream",
     "text": [
      "              precision    recall  f1-score   support\n",
      "\n",
      "           0       0.95      0.99      0.97        75\n",
      "           1       0.89      0.67      0.76        12\n",
      "\n",
      "    accuracy                           0.94        87\n",
      "   macro avg       0.92      0.83      0.86        87\n",
      "weighted avg       0.94      0.94      0.94        87\n",
      "\n"
     ]
    }
   ],
   "source": [
    "print (classification_report(y1_test, y_pred))"
   ]
  },
  {
   "cell_type": "code",
   "execution_count": 41,
   "id": "f2386627",
   "metadata": {},
   "outputs": [
    {
     "name": "stdout",
     "output_type": "stream",
     "text": [
      "F2 Score:  0.7017543859649122\n"
     ]
    }
   ],
   "source": [
    "fpr, tpr, thresholds = roc_curve(y1_test, y_pred_prob)\n",
    "Kf2_2 = fbeta_score(y1_test, y_pred, beta=2)\n",
    "Kr2 = recall_score(y1_test, y_pred)\n",
    "Kp2 = precision_score(y1_test, y_pred)\n",
    "Ka2 = roc_auc_score(y1_test,y_pred_prob)\n",
    "print(\"F2 Score: \", Kf2_2)"
   ]
  },
  {
   "cell_type": "code",
   "execution_count": 42,
   "id": "be75285b",
   "metadata": {},
   "outputs": [
    {
     "name": "stdout",
     "output_type": "stream",
     "text": [
      "Area under ROC:  0.9416666666666665\n"
     ]
    },
    {
     "data": {
      "image/png": "[encoded data removed]",
      "text/plain": [
       "<Figure size 432x288 with 1 Axes>"
      ]
     },
     "metadata": {
      "needs_background": "light"
     },
     "output_type": "display_data"
    }
   ],
   "source": [
    "print(\"Area under ROC: \",roc_auc_score(y1_test, y_pred_prob))\n",
    "plt.plot(fpr, tpr,'r-',label = 'KNN')\n",
    "plt.plot([0,1],[0,1],'k-',label='random')\n",
    "plt.legend()\n",
    "plt.xlabel('False Positive Rate')\n",
    "plt.ylabel('True Positive Rate')\n",
    "plt.title(\"ROC Curve\")\n",
    "plt.show()"
   ]
  },
  {
   "cell_type": "markdown",
   "id": "fc11abb2",
   "metadata": {},
   "source": [
    "###  c.With defining Feature Types as Categorical, instead of One-Hot:"
   ]
  },
  {
   "cell_type": "code",
   "execution_count": 43,
   "id": "6bbf0809",
   "metadata": {},
   "outputs": [],
   "source": [
    "y = df['result']\n",
    "X = df.drop(columns=['result'])"
   ]
  },
  {
   "cell_type": "code",
   "execution_count": 44,
   "id": "e4fbc006",
   "metadata": {},
   "outputs": [
    {
     "data": {
      "text/html": [
       "<div>\n",
       "<style scoped>\n",
       "    .dataframe tbody tr th:only-of-type {\n",
       "        vertical-align: middle;\n",
       "    }\n",
       "\n",
       "    .dataframe tbody tr th {\n",
       "        vertical-align: top;\n",
       "    }\n",
       "\n",
       "    .dataframe thead th {\n",
       "        text-align: right;\n",
       "    }\n",
       "</style>\n",
       "<table border=\"1\" class=\"dataframe\">\n",
       "  <thead>\n",
       "    <tr style=\"text-align: right;\">\n",
       "      <th></th>\n",
       "      <th>location</th>\n",
       "      <th>country</th>\n",
       "      <th>gender</th>\n",
       "      <th>age</th>\n",
       "      <th>vis_wuhan</th>\n",
       "      <th>from_wuhan</th>\n",
       "      <th>symptom1</th>\n",
       "      <th>symptom2</th>\n",
       "      <th>symptom3</th>\n",
       "      <th>symptom4</th>\n",
       "      <th>diff_sym_hos</th>\n",
       "    </tr>\n",
       "    <tr>\n",
       "      <th>index</th>\n",
       "      <th></th>\n",
       "      <th></th>\n",
       "      <th></th>\n",
       "      <th></th>\n",
       "      <th></th>\n",
       "      <th></th>\n",
       "      <th></th>\n",
       "      <th></th>\n",
       "      <th></th>\n",
       "      <th></th>\n",
       "      <th></th>\n",
       "    </tr>\n",
       "  </thead>\n",
       "  <tbody>\n",
       "    <tr>\n",
       "      <th>0</th>\n",
       "      <td>104</td>\n",
       "      <td>8</td>\n",
       "      <td>1</td>\n",
       "      <td>66.0</td>\n",
       "      <td>1</td>\n",
       "      <td>0</td>\n",
       "      <td>14</td>\n",
       "      <td>31</td>\n",
       "      <td>19</td>\n",
       "      <td>12</td>\n",
       "      <td>8</td>\n",
       "    </tr>\n",
       "    <tr>\n",
       "      <th>1</th>\n",
       "      <td>101</td>\n",
       "      <td>8</td>\n",
       "      <td>0</td>\n",
       "      <td>56.0</td>\n",
       "      <td>0</td>\n",
       "      <td>1</td>\n",
       "      <td>14</td>\n",
       "      <td>31</td>\n",
       "      <td>19</td>\n",
       "      <td>12</td>\n",
       "      <td>0</td>\n",
       "    </tr>\n",
       "    <tr>\n",
       "      <th>2</th>\n",
       "      <td>137</td>\n",
       "      <td>8</td>\n",
       "      <td>1</td>\n",
       "      <td>46.0</td>\n",
       "      <td>0</td>\n",
       "      <td>1</td>\n",
       "      <td>14</td>\n",
       "      <td>31</td>\n",
       "      <td>19</td>\n",
       "      <td>12</td>\n",
       "      <td>13</td>\n",
       "    </tr>\n",
       "    <tr>\n",
       "      <th>3</th>\n",
       "      <td>116</td>\n",
       "      <td>8</td>\n",
       "      <td>0</td>\n",
       "      <td>60.0</td>\n",
       "      <td>1</td>\n",
       "      <td>0</td>\n",
       "      <td>14</td>\n",
       "      <td>31</td>\n",
       "      <td>19</td>\n",
       "      <td>12</td>\n",
       "      <td>0</td>\n",
       "    </tr>\n",
       "    <tr>\n",
       "      <th>4</th>\n",
       "      <td>116</td>\n",
       "      <td>8</td>\n",
       "      <td>1</td>\n",
       "      <td>58.0</td>\n",
       "      <td>0</td>\n",
       "      <td>0</td>\n",
       "      <td>14</td>\n",
       "      <td>31</td>\n",
       "      <td>19</td>\n",
       "      <td>12</td>\n",
       "      <td>0</td>\n",
       "    </tr>\n",
       "    <tr>\n",
       "      <th>...</th>\n",
       "      <td>...</td>\n",
       "      <td>...</td>\n",
       "      <td>...</td>\n",
       "      <td>...</td>\n",
       "      <td>...</td>\n",
       "      <td>...</td>\n",
       "      <td>...</td>\n",
       "      <td>...</td>\n",
       "      <td>...</td>\n",
       "      <td>...</td>\n",
       "      <td>...</td>\n",
       "    </tr>\n",
       "    <tr>\n",
       "      <th>858</th>\n",
       "      <td>48</td>\n",
       "      <td>3</td>\n",
       "      <td>2</td>\n",
       "      <td>24.0</td>\n",
       "      <td>0</td>\n",
       "      <td>0</td>\n",
       "      <td>14</td>\n",
       "      <td>31</td>\n",
       "      <td>19</td>\n",
       "      <td>12</td>\n",
       "      <td>0</td>\n",
       "    </tr>\n",
       "    <tr>\n",
       "      <th>859</th>\n",
       "      <td>0</td>\n",
       "      <td>0</td>\n",
       "      <td>2</td>\n",
       "      <td>35.0</td>\n",
       "      <td>0</td>\n",
       "      <td>0</td>\n",
       "      <td>14</td>\n",
       "      <td>31</td>\n",
       "      <td>19</td>\n",
       "      <td>12</td>\n",
       "      <td>0</td>\n",
       "    </tr>\n",
       "    <tr>\n",
       "      <th>860</th>\n",
       "      <td>3</td>\n",
       "      <td>1</td>\n",
       "      <td>1</td>\n",
       "      <td>49.4</td>\n",
       "      <td>0</td>\n",
       "      <td>0</td>\n",
       "      <td>14</td>\n",
       "      <td>31</td>\n",
       "      <td>19</td>\n",
       "      <td>12</td>\n",
       "      <td>0</td>\n",
       "    </tr>\n",
       "    <tr>\n",
       "      <th>861</th>\n",
       "      <td>24</td>\n",
       "      <td>9</td>\n",
       "      <td>1</td>\n",
       "      <td>49.4</td>\n",
       "      <td>0</td>\n",
       "      <td>0</td>\n",
       "      <td>14</td>\n",
       "      <td>31</td>\n",
       "      <td>19</td>\n",
       "      <td>12</td>\n",
       "      <td>0</td>\n",
       "    </tr>\n",
       "    <tr>\n",
       "      <th>862</th>\n",
       "      <td>15</td>\n",
       "      <td>27</td>\n",
       "      <td>1</td>\n",
       "      <td>70.0</td>\n",
       "      <td>0</td>\n",
       "      <td>0</td>\n",
       "      <td>14</td>\n",
       "      <td>31</td>\n",
       "      <td>19</td>\n",
       "      <td>12</td>\n",
       "      <td>0</td>\n",
       "    </tr>\n",
       "  </tbody>\n",
       "</table>\n",
       "<p>863 rows × 11 columns</p>\n",
       "</div>"
      ],
      "text/plain": [
       "      location country gender   age  vis_wuhan  from_wuhan  symptom1  \\\n",
       "index                                                                  \n",
       "0          104       8      1  66.0          1           0        14   \n",
       "1          101       8      0  56.0          0           1        14   \n",
       "2          137       8      1  46.0          0           1        14   \n",
       "3          116       8      0  60.0          1           0        14   \n",
       "4          116       8      1  58.0          0           0        14   \n",
       "...        ...     ...    ...   ...        ...         ...       ...   \n",
       "858         48       3      2  24.0          0           0        14   \n",
       "859          0       0      2  35.0          0           0        14   \n",
       "860          3       1      1  49.4          0           0        14   \n",
       "861         24       9      1  49.4          0           0        14   \n",
       "862         15      27      1  70.0          0           0        14   \n",
       "\n",
       "       symptom2  symptom3  symptom4  diff_sym_hos  \n",
       "index                                              \n",
       "0            31        19        12             8  \n",
       "1            31        19        12             0  \n",
       "2            31        19        12            13  \n",
       "3            31        19        12             0  \n",
       "4            31        19        12             0  \n",
       "...         ...       ...       ...           ...  \n",
       "858          31        19        12             0  \n",
       "859          31        19        12             0  \n",
       "860          31        19        12             0  \n",
       "861          31        19        12             0  \n",
       "862          31        19        12             0  \n",
       "\n",
       "[863 rows x 11 columns]"
      ]
     },
     "execution_count": 44,
     "metadata": {},
     "output_type": "execute_result"
    }
   ],
   "source": [
    "X.location = X.location.astype('category')\n",
    "X.gender = X.gender.astype('category')\n",
    "X.country = X.country.astype('category')\n",
    "X"
   ]
  },
  {
   "cell_type": "markdown",
   "id": "6b80d21d",
   "metadata": {},
   "source": [
    "__Train/Test Split:__"
   ]
  },
  {
   "cell_type": "code",
   "execution_count": 45,
   "id": "68777645",
   "metadata": {},
   "outputs": [],
   "source": [
    "X1_train, X1_test, y1_train, y1_test = train_test_split(X,y,test_size=0.1,random_state=10)"
   ]
  },
  {
   "cell_type": "markdown",
   "id": "2cf700b8",
   "metadata": {},
   "source": [
    "__Training on different values of K to get the best Value of K:__"
   ]
  },
  {
   "cell_type": "code",
   "execution_count": 46,
   "id": "8174ea49",
   "metadata": {},
   "outputs": [],
   "source": [
    "f2 = list()\n",
    "rec = list()\n",
    "for i in range (1,int(np.sqrt(len(X)))):\n",
    "    knn = KNeighborsClassifier(n_neighbors=i)\n",
    "    knn.fit(X1_train, y1_train)\n",
    "    y_pred_prob = knn.predict_proba(X1_test)\n",
    "    y_pred_prob = y_pred_prob[:, 1]\n",
    "    y_pred = knn.predict(X1_test)\n",
    "    rec.append(recall_score(y1_test, y_pred))\n",
    "    f2.append(fbeta_score(y1_test, y_pred, beta=2))"
   ]
  },
  {
   "cell_type": "markdown",
   "id": "9817724c",
   "metadata": {},
   "source": [
    "__Plotting F2-Score and Recall on different Values of K:__"
   ]
  },
  {
   "cell_type": "code",
   "execution_count": 47,
   "id": "cde67385",
   "metadata": {},
   "outputs": [
    {
     "data": {
      "image/png": "[encoded data removed]",
      "text/plain": [
       "<Figure size 432x288 with 1 Axes>"
      ]
     },
     "metadata": {
      "needs_background": "light"
     },
     "output_type": "display_data"
    }
   ],
   "source": [
    "plt.plot(range(1,int(np.sqrt(len(X)))), f2, 'r',label=\"f-2\")\n",
    "plt.plot(range(1,int(np.sqrt(len(X)))), rec, 'b',label =\"Recall\")\n",
    "plt.ylabel(\"Score\")\n",
    "plt.xlabel(\"K\")\n",
    "plt.legend()\n",
    "plt.grid()\n",
    "plt.show()"
   ]
  },
  {
   "cell_type": "code",
   "execution_count": 48,
   "id": "bf526b31",
   "metadata": {},
   "outputs": [
    {
     "data": {
      "text/plain": [
       "5"
      ]
     },
     "execution_count": 48,
     "metadata": {},
     "output_type": "execute_result"
    }
   ],
   "source": [
    "k=f2.index(max(f2))+1\n",
    "k"
   ]
  },
  {
   "cell_type": "markdown",
   "id": "6a6e004b",
   "metadata": {},
   "source": [
    "__Training the Model on the best value of K:__"
   ]
  },
  {
   "cell_type": "code",
   "execution_count": 49,
   "id": "259cf57e",
   "metadata": {},
   "outputs": [],
   "source": [
    "knn = KNeighborsClassifier(n_neighbors=k)\n",
    "knn.fit(X1_train, y1_train)\n",
    "y_pred_prob = knn.predict_proba(X1_test)\n",
    "y_pred_prob = y_pred_prob[:, 1]\n",
    "y_pred = knn.predict(X1_test)"
   ]
  },
  {
   "cell_type": "markdown",
   "id": "1c588736",
   "metadata": {},
   "source": [
    "__Displaying Scoring Metrics of the Model:__"
   ]
  },
  {
   "cell_type": "code",
   "execution_count": 50,
   "id": "35ff128b",
   "metadata": {},
   "outputs": [
    {
     "name": "stderr",
     "output_type": "stream",
     "text": [
      "C:\\Users\\steve\\miniconda3\\envs\\mlpr\\lib\\site-packages\\sklearn\\utils\\deprecation.py:87: FutureWarning: Function plot_confusion_matrix is deprecated; Function `plot_confusion_matrix` is deprecated in 1.0 and will be removed in 1.2. Use one of the class methods: ConfusionMatrixDisplay.from_predictions or ConfusionMatrixDisplay.from_estimator.\n",
      "  warnings.warn(msg, category=FutureWarning)\n"
     ]
    },
    {
     "data": {
      "image/png": "[encoded data removed]",
      "text/plain": [
       "<Figure size 432x288 with 2 Axes>"
      ]
     },
     "metadata": {
      "needs_background": "light"
     },
     "output_type": "display_data"
    }
   ],
   "source": [
    "disp = plot_confusion_matrix(knn, X1_test, y1_test, cmap ='Blues', values_format='.3g')"
   ]
  },
  {
   "cell_type": "code",
   "execution_count": 51,
   "id": "50614697",
   "metadata": {},
   "outputs": [
    {
     "name": "stdout",
     "output_type": "stream",
     "text": [
      "              precision    recall  f1-score   support\n",
      "\n",
      "           0       0.94      0.99      0.96        75\n",
      "           1       0.88      0.58      0.70        12\n",
      "\n",
      "    accuracy                           0.93        87\n",
      "   macro avg       0.91      0.79      0.83        87\n",
      "weighted avg       0.93      0.93      0.93        87\n",
      "\n"
     ]
    }
   ],
   "source": [
    "print (classification_report(y1_test, y_pred))"
   ]
  },
  {
   "cell_type": "code",
   "execution_count": 52,
   "id": "8a08aefe",
   "metadata": {},
   "outputs": [
    {
     "name": "stdout",
     "output_type": "stream",
     "text": [
      "F2 Score:  0.6250000000000001\n"
     ]
    }
   ],
   "source": [
    "fpr, tpr, thresholds = roc_curve(y1_test, y_pred_prob)\n",
    "Kf2_3 = fbeta_score(y1_test, y_pred, beta=2)\n",
    "Kr3 = recall_score(y1_test, y_pred)\n",
    "Kp3 = precision_score(y1_test, y_pred)\n",
    "Ka3 = roc_auc_score(y1_test,y_pred_prob)\n",
    "print(\"F2 Score: \", Kf2_3)"
   ]
  },
  {
   "cell_type": "code",
   "execution_count": 53,
   "id": "4baafcc3",
   "metadata": {},
   "outputs": [
    {
     "name": "stdout",
     "output_type": "stream",
     "text": [
      "Area under ROC:  0.9444444444444444\n"
     ]
    },
    {
     "data": {
      "image/png": "[encoded data removed]",
      "text/plain": [
       "<Figure size 432x288 with 1 Axes>"
      ]
     },
     "metadata": {
      "needs_background": "light"
     },
     "output_type": "display_data"
    }
   ],
   "source": [
    "print(\"Area under ROC: \",roc_auc_score(y1_test, y_pred_prob))\n",
    "plt.plot(fpr, tpr,'r-',label = 'KNN')\n",
    "plt.plot([0,1],[0,1],'k-',label='random')\n",
    "plt.legend()\n",
    "plt.xlabel('False Positive Rate')\n",
    "plt.ylabel('True Positive Rate')\n",
    "plt.title('ROC Curve')\n",
    "plt.show()"
   ]
  },
  {
   "cell_type": "markdown",
   "id": "aca75c81",
   "metadata": {},
   "source": [
    "### d. One-Hot on Categorical, and normalizing Numerical features:"
   ]
  },
  {
   "cell_type": "code",
   "execution_count": 54,
   "id": "aa0de23c",
   "metadata": {},
   "outputs": [],
   "source": [
    "y = df['result']\n",
    "X = df.drop(columns=['result'])"
   ]
  },
  {
   "cell_type": "code",
   "execution_count": 55,
   "id": "1205c1a4",
   "metadata": {},
   "outputs": [
    {
     "data": {
      "text/html": [
       "<div>\n",
       "<style scoped>\n",
       "    .dataframe tbody tr th:only-of-type {\n",
       "        vertical-align: middle;\n",
       "    }\n",
       "\n",
       "    .dataframe tbody tr th {\n",
       "        vertical-align: top;\n",
       "    }\n",
       "\n",
       "    .dataframe thead th {\n",
       "        text-align: right;\n",
       "    }\n",
       "</style>\n",
       "<table border=\"1\" class=\"dataframe\">\n",
       "  <thead>\n",
       "    <tr style=\"text-align: right;\">\n",
       "      <th></th>\n",
       "      <th>age</th>\n",
       "      <th>vis_wuhan</th>\n",
       "      <th>from_wuhan</th>\n",
       "      <th>symptom1</th>\n",
       "      <th>symptom2</th>\n",
       "      <th>symptom3</th>\n",
       "      <th>symptom4</th>\n",
       "      <th>diff_sym_hos</th>\n",
       "      <th>gender_0</th>\n",
       "      <th>gender_1</th>\n",
       "      <th>...</th>\n",
       "      <th>country_24</th>\n",
       "      <th>country_25</th>\n",
       "      <th>country_26</th>\n",
       "      <th>country_27</th>\n",
       "      <th>country_28</th>\n",
       "      <th>country_29</th>\n",
       "      <th>country_30</th>\n",
       "      <th>country_31</th>\n",
       "      <th>country_32</th>\n",
       "      <th>country_33</th>\n",
       "    </tr>\n",
       "    <tr>\n",
       "      <th>index</th>\n",
       "      <th></th>\n",
       "      <th></th>\n",
       "      <th></th>\n",
       "      <th></th>\n",
       "      <th></th>\n",
       "      <th></th>\n",
       "      <th></th>\n",
       "      <th></th>\n",
       "      <th></th>\n",
       "      <th></th>\n",
       "      <th></th>\n",
       "      <th></th>\n",
       "      <th></th>\n",
       "      <th></th>\n",
       "      <th></th>\n",
       "      <th></th>\n",
       "      <th></th>\n",
       "      <th></th>\n",
       "      <th></th>\n",
       "      <th></th>\n",
       "      <th></th>\n",
       "    </tr>\n",
       "  </thead>\n",
       "  <tbody>\n",
       "    <tr>\n",
       "      <th>0</th>\n",
       "      <td>0.680851</td>\n",
       "      <td>1.0</td>\n",
       "      <td>0.0</td>\n",
       "      <td>0.583333</td>\n",
       "      <td>1.0</td>\n",
       "      <td>1.0</td>\n",
       "      <td>1.0</td>\n",
       "      <td>0.65</td>\n",
       "      <td>0.0</td>\n",
       "      <td>1.0</td>\n",
       "      <td>...</td>\n",
       "      <td>0.0</td>\n",
       "      <td>0.0</td>\n",
       "      <td>0.0</td>\n",
       "      <td>0.0</td>\n",
       "      <td>0.0</td>\n",
       "      <td>0.0</td>\n",
       "      <td>0.0</td>\n",
       "      <td>0.0</td>\n",
       "      <td>0.0</td>\n",
       "      <td>0.0</td>\n",
       "    </tr>\n",
       "    <tr>\n",
       "      <th>1</th>\n",
       "      <td>0.574468</td>\n",
       "      <td>0.0</td>\n",
       "      <td>1.0</td>\n",
       "      <td>0.583333</td>\n",
       "      <td>1.0</td>\n",
       "      <td>1.0</td>\n",
       "      <td>1.0</td>\n",
       "      <td>0.25</td>\n",
       "      <td>1.0</td>\n",
       "      <td>0.0</td>\n",
       "      <td>...</td>\n",
       "      <td>0.0</td>\n",
       "      <td>0.0</td>\n",
       "      <td>0.0</td>\n",
       "      <td>0.0</td>\n",
       "      <td>0.0</td>\n",
       "      <td>0.0</td>\n",
       "      <td>0.0</td>\n",
       "      <td>0.0</td>\n",
       "      <td>0.0</td>\n",
       "      <td>0.0</td>\n",
       "    </tr>\n",
       "    <tr>\n",
       "      <th>2</th>\n",
       "      <td>0.468085</td>\n",
       "      <td>0.0</td>\n",
       "      <td>1.0</td>\n",
       "      <td>0.583333</td>\n",
       "      <td>1.0</td>\n",
       "      <td>1.0</td>\n",
       "      <td>1.0</td>\n",
       "      <td>0.90</td>\n",
       "      <td>0.0</td>\n",
       "      <td>1.0</td>\n",
       "      <td>...</td>\n",
       "      <td>0.0</td>\n",
       "      <td>0.0</td>\n",
       "      <td>0.0</td>\n",
       "      <td>0.0</td>\n",
       "      <td>0.0</td>\n",
       "      <td>0.0</td>\n",
       "      <td>0.0</td>\n",
       "      <td>0.0</td>\n",
       "      <td>0.0</td>\n",
       "      <td>0.0</td>\n",
       "    </tr>\n",
       "    <tr>\n",
       "      <th>3</th>\n",
       "      <td>0.617021</td>\n",
       "      <td>1.0</td>\n",
       "      <td>0.0</td>\n",
       "      <td>0.583333</td>\n",
       "      <td>1.0</td>\n",
       "      <td>1.0</td>\n",
       "      <td>1.0</td>\n",
       "      <td>0.25</td>\n",
       "      <td>1.0</td>\n",
       "      <td>0.0</td>\n",
       "      <td>...</td>\n",
       "      <td>0.0</td>\n",
       "      <td>0.0</td>\n",
       "      <td>0.0</td>\n",
       "      <td>0.0</td>\n",
       "      <td>0.0</td>\n",
       "      <td>0.0</td>\n",
       "      <td>0.0</td>\n",
       "      <td>0.0</td>\n",
       "      <td>0.0</td>\n",
       "      <td>0.0</td>\n",
       "    </tr>\n",
       "    <tr>\n",
       "      <th>4</th>\n",
       "      <td>0.595745</td>\n",
       "      <td>0.0</td>\n",
       "      <td>0.0</td>\n",
       "      <td>0.583333</td>\n",
       "      <td>1.0</td>\n",
       "      <td>1.0</td>\n",
       "      <td>1.0</td>\n",
       "      <td>0.25</td>\n",
       "      <td>0.0</td>\n",
       "      <td>1.0</td>\n",
       "      <td>...</td>\n",
       "      <td>0.0</td>\n",
       "      <td>0.0</td>\n",
       "      <td>0.0</td>\n",
       "      <td>0.0</td>\n",
       "      <td>0.0</td>\n",
       "      <td>0.0</td>\n",
       "      <td>0.0</td>\n",
       "      <td>0.0</td>\n",
       "      <td>0.0</td>\n",
       "      <td>0.0</td>\n",
       "    </tr>\n",
       "    <tr>\n",
       "      <th>...</th>\n",
       "      <td>...</td>\n",
       "      <td>...</td>\n",
       "      <td>...</td>\n",
       "      <td>...</td>\n",
       "      <td>...</td>\n",
       "      <td>...</td>\n",
       "      <td>...</td>\n",
       "      <td>...</td>\n",
       "      <td>...</td>\n",
       "      <td>...</td>\n",
       "      <td>...</td>\n",
       "      <td>...</td>\n",
       "      <td>...</td>\n",
       "      <td>...</td>\n",
       "      <td>...</td>\n",
       "      <td>...</td>\n",
       "      <td>...</td>\n",
       "      <td>...</td>\n",
       "      <td>...</td>\n",
       "      <td>...</td>\n",
       "      <td>...</td>\n",
       "    </tr>\n",
       "    <tr>\n",
       "      <th>858</th>\n",
       "      <td>0.234043</td>\n",
       "      <td>0.0</td>\n",
       "      <td>0.0</td>\n",
       "      <td>0.583333</td>\n",
       "      <td>1.0</td>\n",
       "      <td>1.0</td>\n",
       "      <td>1.0</td>\n",
       "      <td>0.25</td>\n",
       "      <td>0.0</td>\n",
       "      <td>0.0</td>\n",
       "      <td>...</td>\n",
       "      <td>0.0</td>\n",
       "      <td>0.0</td>\n",
       "      <td>0.0</td>\n",
       "      <td>0.0</td>\n",
       "      <td>0.0</td>\n",
       "      <td>0.0</td>\n",
       "      <td>0.0</td>\n",
       "      <td>0.0</td>\n",
       "      <td>0.0</td>\n",
       "      <td>0.0</td>\n",
       "    </tr>\n",
       "    <tr>\n",
       "      <th>859</th>\n",
       "      <td>0.351064</td>\n",
       "      <td>0.0</td>\n",
       "      <td>0.0</td>\n",
       "      <td>0.583333</td>\n",
       "      <td>1.0</td>\n",
       "      <td>1.0</td>\n",
       "      <td>1.0</td>\n",
       "      <td>0.25</td>\n",
       "      <td>0.0</td>\n",
       "      <td>0.0</td>\n",
       "      <td>...</td>\n",
       "      <td>0.0</td>\n",
       "      <td>0.0</td>\n",
       "      <td>0.0</td>\n",
       "      <td>0.0</td>\n",
       "      <td>0.0</td>\n",
       "      <td>0.0</td>\n",
       "      <td>0.0</td>\n",
       "      <td>0.0</td>\n",
       "      <td>0.0</td>\n",
       "      <td>0.0</td>\n",
       "    </tr>\n",
       "    <tr>\n",
       "      <th>860</th>\n",
       "      <td>0.504255</td>\n",
       "      <td>0.0</td>\n",
       "      <td>0.0</td>\n",
       "      <td>0.583333</td>\n",
       "      <td>1.0</td>\n",
       "      <td>1.0</td>\n",
       "      <td>1.0</td>\n",
       "      <td>0.25</td>\n",
       "      <td>0.0</td>\n",
       "      <td>1.0</td>\n",
       "      <td>...</td>\n",
       "      <td>0.0</td>\n",
       "      <td>0.0</td>\n",
       "      <td>0.0</td>\n",
       "      <td>0.0</td>\n",
       "      <td>0.0</td>\n",
       "      <td>0.0</td>\n",
       "      <td>0.0</td>\n",
       "      <td>0.0</td>\n",
       "      <td>0.0</td>\n",
       "      <td>0.0</td>\n",
       "    </tr>\n",
       "    <tr>\n",
       "      <th>861</th>\n",
       "      <td>0.504255</td>\n",
       "      <td>0.0</td>\n",
       "      <td>0.0</td>\n",
       "      <td>0.583333</td>\n",
       "      <td>1.0</td>\n",
       "      <td>1.0</td>\n",
       "      <td>1.0</td>\n",
       "      <td>0.25</td>\n",
       "      <td>0.0</td>\n",
       "      <td>1.0</td>\n",
       "      <td>...</td>\n",
       "      <td>0.0</td>\n",
       "      <td>0.0</td>\n",
       "      <td>0.0</td>\n",
       "      <td>0.0</td>\n",
       "      <td>0.0</td>\n",
       "      <td>0.0</td>\n",
       "      <td>0.0</td>\n",
       "      <td>0.0</td>\n",
       "      <td>0.0</td>\n",
       "      <td>0.0</td>\n",
       "    </tr>\n",
       "    <tr>\n",
       "      <th>862</th>\n",
       "      <td>0.723404</td>\n",
       "      <td>0.0</td>\n",
       "      <td>0.0</td>\n",
       "      <td>0.583333</td>\n",
       "      <td>1.0</td>\n",
       "      <td>1.0</td>\n",
       "      <td>1.0</td>\n",
       "      <td>0.25</td>\n",
       "      <td>0.0</td>\n",
       "      <td>1.0</td>\n",
       "      <td>...</td>\n",
       "      <td>0.0</td>\n",
       "      <td>0.0</td>\n",
       "      <td>0.0</td>\n",
       "      <td>1.0</td>\n",
       "      <td>0.0</td>\n",
       "      <td>0.0</td>\n",
       "      <td>0.0</td>\n",
       "      <td>0.0</td>\n",
       "      <td>0.0</td>\n",
       "      <td>0.0</td>\n",
       "    </tr>\n",
       "  </tbody>\n",
       "</table>\n",
       "<p>863 rows × 184 columns</p>\n",
       "</div>"
      ],
      "text/plain": [
       "            age  vis_wuhan  from_wuhan  symptom1  symptom2  symptom3  \\\n",
       "index                                                                  \n",
       "0      0.680851        1.0         0.0  0.583333       1.0       1.0   \n",
       "1      0.574468        0.0         1.0  0.583333       1.0       1.0   \n",
       "2      0.468085        0.0         1.0  0.583333       1.0       1.0   \n",
       "3      0.617021        1.0         0.0  0.583333       1.0       1.0   \n",
       "4      0.595745        0.0         0.0  0.583333       1.0       1.0   \n",
       "...         ...        ...         ...       ...       ...       ...   \n",
       "858    0.234043        0.0         0.0  0.583333       1.0       1.0   \n",
       "859    0.351064        0.0         0.0  0.583333       1.0       1.0   \n",
       "860    0.504255        0.0         0.0  0.583333       1.0       1.0   \n",
       "861    0.504255        0.0         0.0  0.583333       1.0       1.0   \n",
       "862    0.723404        0.0         0.0  0.583333       1.0       1.0   \n",
       "\n",
       "       symptom4  diff_sym_hos  gender_0  gender_1  ...  country_24  \\\n",
       "index                                              ...               \n",
       "0           1.0          0.65       0.0       1.0  ...         0.0   \n",
       "1           1.0          0.25       1.0       0.0  ...         0.0   \n",
       "2           1.0          0.90       0.0       1.0  ...         0.0   \n",
       "3           1.0          0.25       1.0       0.0  ...         0.0   \n",
       "4           1.0          0.25       0.0       1.0  ...         0.0   \n",
       "...         ...           ...       ...       ...  ...         ...   \n",
       "858         1.0          0.25       0.0       0.0  ...         0.0   \n",
       "859         1.0          0.25       0.0       0.0  ...         0.0   \n",
       "860         1.0          0.25       0.0       1.0  ...         0.0   \n",
       "861         1.0          0.25       0.0       1.0  ...         0.0   \n",
       "862         1.0          0.25       0.0       1.0  ...         0.0   \n",
       "\n",
       "       country_25  country_26  country_27  country_28  country_29  country_30  \\\n",
       "index                                                                           \n",
       "0             0.0         0.0         0.0         0.0         0.0         0.0   \n",
       "1             0.0         0.0         0.0         0.0         0.0         0.0   \n",
       "2             0.0         0.0         0.0         0.0         0.0         0.0   \n",
       "3             0.0         0.0         0.0         0.0         0.0         0.0   \n",
       "4             0.0         0.0         0.0         0.0         0.0         0.0   \n",
       "...           ...         ...         ...         ...         ...         ...   \n",
       "858           0.0         0.0         0.0         0.0         0.0         0.0   \n",
       "859           0.0         0.0         0.0         0.0         0.0         0.0   \n",
       "860           0.0         0.0         0.0         0.0         0.0         0.0   \n",
       "861           0.0         0.0         0.0         0.0         0.0         0.0   \n",
       "862           0.0         0.0         1.0         0.0         0.0         0.0   \n",
       "\n",
       "       country_31  country_32  country_33  \n",
       "index                                      \n",
       "0             0.0         0.0         0.0  \n",
       "1             0.0         0.0         0.0  \n",
       "2             0.0         0.0         0.0  \n",
       "3             0.0         0.0         0.0  \n",
       "4             0.0         0.0         0.0  \n",
       "...           ...         ...         ...  \n",
       "858           0.0         0.0         0.0  \n",
       "859           0.0         0.0         0.0  \n",
       "860           0.0         0.0         0.0  \n",
       "861           0.0         0.0         0.0  \n",
       "862           0.0         0.0         0.0  \n",
       "\n",
       "[863 rows x 184 columns]"
      ]
     },
     "execution_count": 55,
     "metadata": {},
     "output_type": "execute_result"
    }
   ],
   "source": [
    "var=pd.get_dummies(X,columns =\t[\"gender\",\"location\",\"country\"])\n",
    "X=pd.DataFrame(data=var)\n",
    "\n",
    "scaler = MinMaxScaler(feature_range = (0,1)) \n",
    "scaled_values = scaler.fit_transform(X) \n",
    "X.loc[:,:] = scaled_values\n",
    "X"
   ]
  },
  {
   "cell_type": "markdown",
   "id": "123b84d1",
   "metadata": {},
   "source": [
    "__Train/Test Split:__"
   ]
  },
  {
   "cell_type": "code",
   "execution_count": 56,
   "id": "51e2cf5d",
   "metadata": {},
   "outputs": [],
   "source": [
    "X1_train, X1_test, y1_train, y1_test = train_test_split(X,y,test_size=0.1,random_state=10)"
   ]
  },
  {
   "cell_type": "markdown",
   "id": "0830f997",
   "metadata": {},
   "source": [
    "__Training on different values of K to get the best Value of K:__"
   ]
  },
  {
   "cell_type": "code",
   "execution_count": 57,
   "id": "5b6ea83c",
   "metadata": {},
   "outputs": [],
   "source": [
    "f2 = list()\n",
    "rec = list()\n",
    "for i in range (1,int(np.sqrt(len(X)))):\n",
    "    knn = KNeighborsClassifier(n_neighbors=i)\n",
    "    knn.fit(X1_train, y1_train)\n",
    "    y_pred_prob = knn.predict_proba(X1_test)\n",
    "    y_pred_prob = y_pred_prob[:, 1]\n",
    "    y_pred = knn.predict(X1_test)\n",
    "    rec.append(recall_score(y1_test, y_pred))\n",
    "    f2.append(fbeta_score(y1_test, y_pred, beta=2))"
   ]
  },
  {
   "cell_type": "markdown",
   "id": "e89ee81c",
   "metadata": {},
   "source": [
    "__Plotting F2-Score and Recall on different Values of K:__"
   ]
  },
  {
   "cell_type": "code",
   "execution_count": 58,
   "id": "1b7ec094",
   "metadata": {},
   "outputs": [
    {
     "data": {
      "image/png": "[encoded data removed]",
      "text/plain": [
       "<Figure size 432x288 with 1 Axes>"
      ]
     },
     "metadata": {
      "needs_background": "light"
     },
     "output_type": "display_data"
    }
   ],
   "source": [
    "plt.plot(range(1,int(np.sqrt(len(X)))), f2, 'r',label=\"f-2\")\n",
    "plt.plot(range(1,int(np.sqrt(len(X)))), rec, 'b',label =\"Recall\")\n",
    "plt.ylabel(\"Score\")\n",
    "plt.xlabel(\"K\")\n",
    "plt.legend()\n",
    "plt.grid()\n",
    "plt.show()"
   ]
  },
  {
   "cell_type": "code",
   "execution_count": 59,
   "id": "6cf91e0f",
   "metadata": {},
   "outputs": [
    {
     "data": {
      "text/plain": [
       "1"
      ]
     },
     "execution_count": 59,
     "metadata": {},
     "output_type": "execute_result"
    }
   ],
   "source": [
    "k=f2.index(max(f2))+1\n",
    "k"
   ]
  },
  {
   "cell_type": "markdown",
   "id": "80650061",
   "metadata": {},
   "source": [
    "__Training the Model on the best value of K:__"
   ]
  },
  {
   "cell_type": "code",
   "execution_count": 60,
   "id": "88b72ee8",
   "metadata": {},
   "outputs": [],
   "source": [
    "knn = KNeighborsClassifier(n_neighbors=k)\n",
    "knn.fit(X1_train, y1_train)\n",
    "y_pred_prob = knn.predict_proba(X1_test)\n",
    "y_pred_prob = y_pred_prob[:, 1]\n",
    "y_pred = knn.predict(X1_test)"
   ]
  },
  {
   "cell_type": "markdown",
   "id": "f8023cf6",
   "metadata": {},
   "source": [
    "__Displaying Scoring Metrics of the Model:__"
   ]
  },
  {
   "cell_type": "code",
   "execution_count": 61,
   "id": "fd5559bf",
   "metadata": {},
   "outputs": [
    {
     "name": "stderr",
     "output_type": "stream",
     "text": [
      "C:\\Users\\steve\\miniconda3\\envs\\mlpr\\lib\\site-packages\\sklearn\\utils\\deprecation.py:87: FutureWarning: Function plot_confusion_matrix is deprecated; Function `plot_confusion_matrix` is deprecated in 1.0 and will be removed in 1.2. Use one of the class methods: ConfusionMatrixDisplay.from_predictions or ConfusionMatrixDisplay.from_estimator.\n",
      "  warnings.warn(msg, category=FutureWarning)\n"
     ]
    },
    {
     "data": {
      "image/png": "[encoded data removed]",
      "text/plain": [
       "<Figure size 432x288 with 2 Axes>"
      ]
     },
     "metadata": {
      "needs_background": "light"
     },
     "output_type": "display_data"
    }
   ],
   "source": [
    "disp = plot_confusion_matrix(knn, X1_test, y1_test, cmap ='Blues', values_format='.3g')"
   ]
  },
  {
   "cell_type": "code",
   "execution_count": 62,
   "id": "fd441299",
   "metadata": {},
   "outputs": [
    {
     "name": "stdout",
     "output_type": "stream",
     "text": [
      "              precision    recall  f1-score   support\n",
      "\n",
      "           0       0.94      0.96      0.95        75\n",
      "           1       0.70      0.58      0.64        12\n",
      "\n",
      "    accuracy                           0.91        87\n",
      "   macro avg       0.82      0.77      0.79        87\n",
      "weighted avg       0.90      0.91      0.90        87\n",
      "\n"
     ]
    }
   ],
   "source": [
    "print (classification_report(y1_test, y_pred))"
   ]
  },
  {
   "cell_type": "code",
   "execution_count": 63,
   "id": "2ddc4384",
   "metadata": {},
   "outputs": [
    {
     "name": "stdout",
     "output_type": "stream",
     "text": [
      "F2 Score:  0.6034482758620691\n"
     ]
    }
   ],
   "source": [
    "fpr, tpr, thresholds = roc_curve(y1_test, y_pred_prob)\n",
    "Kf2_4 = fbeta_score(y1_test, y_pred, beta=2)\n",
    "Kr4 = recall_score(y1_test, y_pred)\n",
    "Kp4 = precision_score(y1_test, y_pred)\n",
    "Ka4 = roc_auc_score(y1_test,y_pred_prob)\n",
    "print(\"F2 Score: \", Kf2_4)"
   ]
  },
  {
   "cell_type": "code",
   "execution_count": 64,
   "id": "0d06f592",
   "metadata": {},
   "outputs": [
    {
     "name": "stdout",
     "output_type": "stream",
     "text": [
      "Area under ROC:  0.7716666666666667\n"
     ]
    },
    {
     "data": {
      "image/png": "[encoded data removed]",
      "text/plain": [
       "<Figure size 432x288 with 1 Axes>"
      ]
     },
     "metadata": {
      "needs_background": "light"
     },
     "output_type": "display_data"
    }
   ],
   "source": [
    "print(\"Area under ROC: \",roc_auc_score(y1_test, y_pred_prob))\n",
    "plt.plot(fpr, tpr,'r-',label = 'KNN')\n",
    "plt.plot([0,1],[0,1],'k-',label='random')\n",
    "plt.legend()\n",
    "plt.xlabel('False Positive Rate')\n",
    "plt.ylabel('True Positive Rate')\n",
    "plt.title(\"ROC Curve\")\n",
    "plt.show()"
   ]
  },
  {
   "cell_type": "markdown",
   "id": "e5000b5d",
   "metadata": {},
   "source": [
    "### e. Without Normalizing Age:\n",
    "Since we suspect that age has a better importance, therefore, it can have higher weight in distance calculations:"
   ]
  },
  {
   "cell_type": "code",
   "execution_count": 65,
   "id": "5b35c2e9",
   "metadata": {},
   "outputs": [],
   "source": [
    "y = df['result']\n",
    "X = df.drop(columns=['result'])\n",
    "age = X['age']\n",
    "X1 = X.drop(columns=['age'])"
   ]
  },
  {
   "cell_type": "code",
   "execution_count": 66,
   "id": "7def3a98",
   "metadata": {},
   "outputs": [
    {
     "data": {
      "text/html": [
       "<div>\n",
       "<style scoped>\n",
       "    .dataframe tbody tr th:only-of-type {\n",
       "        vertical-align: middle;\n",
       "    }\n",
       "\n",
       "    .dataframe tbody tr th {\n",
       "        vertical-align: top;\n",
       "    }\n",
       "\n",
       "    .dataframe thead th {\n",
       "        text-align: right;\n",
       "    }\n",
       "</style>\n",
       "<table border=\"1\" class=\"dataframe\">\n",
       "  <thead>\n",
       "    <tr style=\"text-align: right;\">\n",
       "      <th></th>\n",
       "      <th>location</th>\n",
       "      <th>country</th>\n",
       "      <th>gender</th>\n",
       "      <th>vis_wuhan</th>\n",
       "      <th>from_wuhan</th>\n",
       "      <th>symptom1</th>\n",
       "      <th>symptom2</th>\n",
       "      <th>symptom3</th>\n",
       "      <th>symptom4</th>\n",
       "      <th>diff_sym_hos</th>\n",
       "      <th>age</th>\n",
       "    </tr>\n",
       "    <tr>\n",
       "      <th>index</th>\n",
       "      <th></th>\n",
       "      <th></th>\n",
       "      <th></th>\n",
       "      <th></th>\n",
       "      <th></th>\n",
       "      <th></th>\n",
       "      <th></th>\n",
       "      <th></th>\n",
       "      <th></th>\n",
       "      <th></th>\n",
       "      <th></th>\n",
       "    </tr>\n",
       "  </thead>\n",
       "  <tbody>\n",
       "    <tr>\n",
       "      <th>0</th>\n",
       "      <td>0.753623</td>\n",
       "      <td>0.242424</td>\n",
       "      <td>0.5</td>\n",
       "      <td>1.0</td>\n",
       "      <td>0.0</td>\n",
       "      <td>0.583333</td>\n",
       "      <td>1.0</td>\n",
       "      <td>1.0</td>\n",
       "      <td>1.0</td>\n",
       "      <td>0.65</td>\n",
       "      <td>66.0</td>\n",
       "    </tr>\n",
       "    <tr>\n",
       "      <th>1</th>\n",
       "      <td>0.731884</td>\n",
       "      <td>0.242424</td>\n",
       "      <td>0.0</td>\n",
       "      <td>0.0</td>\n",
       "      <td>1.0</td>\n",
       "      <td>0.583333</td>\n",
       "      <td>1.0</td>\n",
       "      <td>1.0</td>\n",
       "      <td>1.0</td>\n",
       "      <td>0.25</td>\n",
       "      <td>56.0</td>\n",
       "    </tr>\n",
       "    <tr>\n",
       "      <th>2</th>\n",
       "      <td>0.992754</td>\n",
       "      <td>0.242424</td>\n",
       "      <td>0.5</td>\n",
       "      <td>0.0</td>\n",
       "      <td>1.0</td>\n",
       "      <td>0.583333</td>\n",
       "      <td>1.0</td>\n",
       "      <td>1.0</td>\n",
       "      <td>1.0</td>\n",
       "      <td>0.90</td>\n",
       "      <td>46.0</td>\n",
       "    </tr>\n",
       "    <tr>\n",
       "      <th>3</th>\n",
       "      <td>0.840580</td>\n",
       "      <td>0.242424</td>\n",
       "      <td>0.0</td>\n",
       "      <td>1.0</td>\n",
       "      <td>0.0</td>\n",
       "      <td>0.583333</td>\n",
       "      <td>1.0</td>\n",
       "      <td>1.0</td>\n",
       "      <td>1.0</td>\n",
       "      <td>0.25</td>\n",
       "      <td>60.0</td>\n",
       "    </tr>\n",
       "    <tr>\n",
       "      <th>4</th>\n",
       "      <td>0.840580</td>\n",
       "      <td>0.242424</td>\n",
       "      <td>0.5</td>\n",
       "      <td>0.0</td>\n",
       "      <td>0.0</td>\n",
       "      <td>0.583333</td>\n",
       "      <td>1.0</td>\n",
       "      <td>1.0</td>\n",
       "      <td>1.0</td>\n",
       "      <td>0.25</td>\n",
       "      <td>58.0</td>\n",
       "    </tr>\n",
       "    <tr>\n",
       "      <th>...</th>\n",
       "      <td>...</td>\n",
       "      <td>...</td>\n",
       "      <td>...</td>\n",
       "      <td>...</td>\n",
       "      <td>...</td>\n",
       "      <td>...</td>\n",
       "      <td>...</td>\n",
       "      <td>...</td>\n",
       "      <td>...</td>\n",
       "      <td>...</td>\n",
       "      <td>...</td>\n",
       "    </tr>\n",
       "    <tr>\n",
       "      <th>858</th>\n",
       "      <td>0.347826</td>\n",
       "      <td>0.090909</td>\n",
       "      <td>1.0</td>\n",
       "      <td>0.0</td>\n",
       "      <td>0.0</td>\n",
       "      <td>0.583333</td>\n",
       "      <td>1.0</td>\n",
       "      <td>1.0</td>\n",
       "      <td>1.0</td>\n",
       "      <td>0.25</td>\n",
       "      <td>24.0</td>\n",
       "    </tr>\n",
       "    <tr>\n",
       "      <th>859</th>\n",
       "      <td>0.000000</td>\n",
       "      <td>0.000000</td>\n",
       "      <td>1.0</td>\n",
       "      <td>0.0</td>\n",
       "      <td>0.0</td>\n",
       "      <td>0.583333</td>\n",
       "      <td>1.0</td>\n",
       "      <td>1.0</td>\n",
       "      <td>1.0</td>\n",
       "      <td>0.25</td>\n",
       "      <td>35.0</td>\n",
       "    </tr>\n",
       "    <tr>\n",
       "      <th>860</th>\n",
       "      <td>0.021739</td>\n",
       "      <td>0.030303</td>\n",
       "      <td>0.5</td>\n",
       "      <td>0.0</td>\n",
       "      <td>0.0</td>\n",
       "      <td>0.583333</td>\n",
       "      <td>1.0</td>\n",
       "      <td>1.0</td>\n",
       "      <td>1.0</td>\n",
       "      <td>0.25</td>\n",
       "      <td>49.4</td>\n",
       "    </tr>\n",
       "    <tr>\n",
       "      <th>861</th>\n",
       "      <td>0.173913</td>\n",
       "      <td>0.272727</td>\n",
       "      <td>0.5</td>\n",
       "      <td>0.0</td>\n",
       "      <td>0.0</td>\n",
       "      <td>0.583333</td>\n",
       "      <td>1.0</td>\n",
       "      <td>1.0</td>\n",
       "      <td>1.0</td>\n",
       "      <td>0.25</td>\n",
       "      <td>49.4</td>\n",
       "    </tr>\n",
       "    <tr>\n",
       "      <th>862</th>\n",
       "      <td>0.108696</td>\n",
       "      <td>0.818182</td>\n",
       "      <td>0.5</td>\n",
       "      <td>0.0</td>\n",
       "      <td>0.0</td>\n",
       "      <td>0.583333</td>\n",
       "      <td>1.0</td>\n",
       "      <td>1.0</td>\n",
       "      <td>1.0</td>\n",
       "      <td>0.25</td>\n",
       "      <td>70.0</td>\n",
       "    </tr>\n",
       "  </tbody>\n",
       "</table>\n",
       "<p>863 rows × 11 columns</p>\n",
       "</div>"
      ],
      "text/plain": [
       "       location   country  gender  vis_wuhan  from_wuhan  symptom1  symptom2  \\\n",
       "index                                                                          \n",
       "0      0.753623  0.242424     0.5        1.0         0.0  0.583333       1.0   \n",
       "1      0.731884  0.242424     0.0        0.0         1.0  0.583333       1.0   \n",
       "2      0.992754  0.242424     0.5        0.0         1.0  0.583333       1.0   \n",
       "3      0.840580  0.242424     0.0        1.0         0.0  0.583333       1.0   \n",
       "4      0.840580  0.242424     0.5        0.0         0.0  0.583333       1.0   \n",
       "...         ...       ...     ...        ...         ...       ...       ...   \n",
       "858    0.347826  0.090909     1.0        0.0         0.0  0.583333       1.0   \n",
       "859    0.000000  0.000000     1.0        0.0         0.0  0.583333       1.0   \n",
       "860    0.021739  0.030303     0.5        0.0         0.0  0.583333       1.0   \n",
       "861    0.173913  0.272727     0.5        0.0         0.0  0.583333       1.0   \n",
       "862    0.108696  0.818182     0.5        0.0         0.0  0.583333       1.0   \n",
       "\n",
       "       symptom3  symptom4  diff_sym_hos   age  \n",
       "index                                          \n",
       "0           1.0       1.0          0.65  66.0  \n",
       "1           1.0       1.0          0.25  56.0  \n",
       "2           1.0       1.0          0.90  46.0  \n",
       "3           1.0       1.0          0.25  60.0  \n",
       "4           1.0       1.0          0.25  58.0  \n",
       "...         ...       ...           ...   ...  \n",
       "858         1.0       1.0          0.25  24.0  \n",
       "859         1.0       1.0          0.25  35.0  \n",
       "860         1.0       1.0          0.25  49.4  \n",
       "861         1.0       1.0          0.25  49.4  \n",
       "862         1.0       1.0          0.25  70.0  \n",
       "\n",
       "[863 rows x 11 columns]"
      ]
     },
     "execution_count": 66,
     "metadata": {},
     "output_type": "execute_result"
    }
   ],
   "source": [
    "scaler = MinMaxScaler(feature_range = (0,1)) \n",
    "scaled_values = scaler.fit_transform(X1) \n",
    "X1.loc[:,:] = scaled_values\n",
    "\n",
    "age = X['age']\n",
    "X1['age'] = age\n",
    "X1"
   ]
  },
  {
   "cell_type": "markdown",
   "id": "b0eed440",
   "metadata": {},
   "source": [
    "__Train/Test Split:__"
   ]
  },
  {
   "cell_type": "code",
   "execution_count": 67,
   "id": "6b90606d",
   "metadata": {},
   "outputs": [],
   "source": [
    "X1_train, X1_test, y1_train, y1_test = train_test_split(X1,y,test_size=0.1,random_state=10)"
   ]
  },
  {
   "cell_type": "markdown",
   "id": "8044601d",
   "metadata": {},
   "source": [
    "__Training on different values of K to get the best Value of K:__"
   ]
  },
  {
   "cell_type": "code",
   "execution_count": 68,
   "id": "c0d1099d",
   "metadata": {},
   "outputs": [],
   "source": [
    "f2 = list()\n",
    "rec = list()\n",
    "for i in range (1,int(np.sqrt(len(X)))):\n",
    "    knn = KNeighborsClassifier(n_neighbors=i)\n",
    "    knn.fit(X1_train, y1_train)    \n",
    "    y_pred_prob = knn.predict_proba(X1_test)\n",
    "    y_pred_prob = y_pred_prob[:, 1]\n",
    "    y_pred = knn.predict(X1_test)\n",
    "    rec.append(recall_score(y1_test, y_pred))\n",
    "    f2.append(fbeta_score(y1_test, y_pred, beta=2))"
   ]
  },
  {
   "cell_type": "markdown",
   "id": "78f9e652",
   "metadata": {},
   "source": [
    "__Plotting F2-Score and Recall on different Values of K:__"
   ]
  },
  {
   "cell_type": "code",
   "execution_count": 69,
   "id": "91b0a6f9",
   "metadata": {},
   "outputs": [
    {
     "data": {
      "image/png": "[encoded data removed]",
      "text/plain": [
       "<Figure size 432x288 with 1 Axes>"
      ]
     },
     "metadata": {
      "needs_background": "light"
     },
     "output_type": "display_data"
    }
   ],
   "source": [
    "plt.plot(range(1,int(np.sqrt(len(X)))), f2, 'r',label=\"f-2\")\n",
    "plt.plot(range(1,int(np.sqrt(len(X)))), rec, 'b',label =\"Recall\")\n",
    "plt.ylabel(\"Score\")\n",
    "plt.xlabel(\"K\")\n",
    "plt.legend()\n",
    "plt.grid()\n",
    "plt.show()"
   ]
  },
  {
   "cell_type": "code",
   "execution_count": 70,
   "id": "d3fe6649",
   "metadata": {},
   "outputs": [
    {
     "data": {
      "text/plain": [
       "3"
      ]
     },
     "execution_count": 70,
     "metadata": {},
     "output_type": "execute_result"
    }
   ],
   "source": [
    "k=f2.index(max(f2))+1\n",
    "k"
   ]
  },
  {
   "cell_type": "markdown",
   "id": "a71ec37e",
   "metadata": {},
   "source": [
    "__Training the Model on the best value of K:__"
   ]
  },
  {
   "cell_type": "code",
   "execution_count": 71,
   "id": "235a34e3",
   "metadata": {},
   "outputs": [],
   "source": [
    "knn = KNeighborsClassifier(n_neighbors=k)\n",
    "knn.fit(X1_train, y1_train)\n",
    "y_pred_prob = knn.predict_proba(X1_test)\n",
    "y_pred_prob = y_pred_prob[:, 1]\n",
    "y_pred = knn.predict(X1_test)"
   ]
  },
  {
   "cell_type": "markdown",
   "id": "a94dea49",
   "metadata": {},
   "source": [
    "__Displaying Scoring Metrics of the Model:__"
   ]
  },
  {
   "cell_type": "code",
   "execution_count": 72,
   "id": "132762fa",
   "metadata": {},
   "outputs": [
    {
     "name": "stderr",
     "output_type": "stream",
     "text": [
      "C:\\Users\\steve\\miniconda3\\envs\\mlpr\\lib\\site-packages\\sklearn\\utils\\deprecation.py:87: FutureWarning: Function plot_confusion_matrix is deprecated; Function `plot_confusion_matrix` is deprecated in 1.0 and will be removed in 1.2. Use one of the class methods: ConfusionMatrixDisplay.from_predictions or ConfusionMatrixDisplay.from_estimator.\n",
      "  warnings.warn(msg, category=FutureWarning)\n"
     ]
    },
    {
     "data": {
      "image/png": "[encoded data removed]",
      "text/plain": [
       "<Figure size 432x288 with 2 Axes>"
      ]
     },
     "metadata": {
      "needs_background": "light"
     },
     "output_type": "display_data"
    }
   ],
   "source": [
    "disp = plot_confusion_matrix(knn, X1_test, y1_test, cmap ='Blues', values_format='.3g')"
   ]
  },
  {
   "cell_type": "code",
   "execution_count": 73,
   "id": "e7c762aa",
   "metadata": {},
   "outputs": [
    {
     "name": "stdout",
     "output_type": "stream",
     "text": [
      "              precision    recall  f1-score   support\n",
      "\n",
      "           0       0.95      0.99      0.97        75\n",
      "           1       0.89      0.67      0.76        12\n",
      "\n",
      "    accuracy                           0.94        87\n",
      "   macro avg       0.92      0.83      0.86        87\n",
      "weighted avg       0.94      0.94      0.94        87\n",
      "\n"
     ]
    }
   ],
   "source": [
    "print (classification_report(y1_test, y_pred))"
   ]
  },
  {
   "cell_type": "code",
   "execution_count": 74,
   "id": "12fd3447",
   "metadata": {},
   "outputs": [
    {
     "name": "stdout",
     "output_type": "stream",
     "text": [
      "F2 Score:  0.7017543859649122\n"
     ]
    }
   ],
   "source": [
    "fpr, tpr, thresholds = roc_curve(y1_test, y_pred_prob)\n",
    "Kf2_5 = fbeta_score(y1_test, y_pred, beta=2)\n",
    "Kr5 = recall_score(y1_test, y_pred)\n",
    "Kp5 = precision_score(y1_test, y_pred)\n",
    "Ka5 = roc_auc_score(y1_test,y_pred_prob)\n",
    "print(\"F2 Score: \", Kf2_5)"
   ]
  },
  {
   "cell_type": "code",
   "execution_count": 75,
   "id": "1a0152f3",
   "metadata": {},
   "outputs": [
    {
     "name": "stdout",
     "output_type": "stream",
     "text": [
      "Area under ROC:  0.9372222222222222\n"
     ]
    },
    {
     "data": {
      "image/png": "[encoded data removed]",
      "text/plain": [
       "<Figure size 432x288 with 1 Axes>"
      ]
     },
     "metadata": {
      "needs_background": "light"
     },
     "output_type": "display_data"
    }
   ],
   "source": [
    "print(\"Area under ROC: \",roc_auc_score(y1_test, y_pred_prob))\n",
    "plt.plot(fpr, tpr,'r-',label = 'KNN')\n",
    "plt.plot([0,1],[0,1],'k-',label='random')\n",
    "plt.legend()\n",
    "plt.xlabel('False Positive Rate')\n",
    "plt.ylabel('True Positive Rate')\n",
    "plt.title('ROC Curve')\n",
    "plt.show()"
   ]
  },
  {
   "cell_type": "markdown",
   "id": "5e23d096",
   "metadata": {},
   "source": [
    "### f. With Gender Smoothing and Normalization:\n",
    "\n",
    "By substituting the Gender = \"2\" with the median of Gender of its label."
   ]
  },
  {
   "cell_type": "code",
   "execution_count": 76,
   "id": "3e7c2738",
   "metadata": {},
   "outputs": [
    {
     "data": {
      "text/plain": [
       "1    389\n",
       "0    302\n",
       "2    172\n",
       "Name: gender, dtype: int64"
      ]
     },
     "execution_count": 76,
     "metadata": {},
     "output_type": "execute_result"
    }
   ],
   "source": [
    "df1, df2 = [x for _, x in df.groupby(df['result'] ==0)]\n",
    "df['gender'].value_counts()"
   ]
  },
  {
   "cell_type": "code",
   "execution_count": 77,
   "id": "1715ad14",
   "metadata": {},
   "outputs": [
    {
     "data": {
      "text/plain": [
       "1.0"
      ]
     },
     "execution_count": 77,
     "metadata": {},
     "output_type": "execute_result"
    }
   ],
   "source": [
    "df1['gender'].median()"
   ]
  },
  {
   "cell_type": "code",
   "execution_count": 78,
   "id": "eb97624d",
   "metadata": {},
   "outputs": [
    {
     "data": {
      "text/plain": [
       "1.0"
      ]
     },
     "execution_count": 78,
     "metadata": {},
     "output_type": "execute_result"
    }
   ],
   "source": [
    "df2['gender'].median()"
   ]
  },
  {
   "cell_type": "code",
   "execution_count": 79,
   "id": "87527ed3",
   "metadata": {},
   "outputs": [
    {
     "data": {
      "text/html": [
       "<div>\n",
       "<style scoped>\n",
       "    .dataframe tbody tr th:only-of-type {\n",
       "        vertical-align: middle;\n",
       "    }\n",
       "\n",
       "    .dataframe tbody tr th {\n",
       "        vertical-align: top;\n",
       "    }\n",
       "\n",
       "    .dataframe thead th {\n",
       "        text-align: right;\n",
       "    }\n",
       "</style>\n",
       "<table border=\"1\" class=\"dataframe\">\n",
       "  <thead>\n",
       "    <tr style=\"text-align: right;\">\n",
       "      <th></th>\n",
       "      <th>location</th>\n",
       "      <th>country</th>\n",
       "      <th>gender</th>\n",
       "      <th>age</th>\n",
       "      <th>vis_wuhan</th>\n",
       "      <th>from_wuhan</th>\n",
       "      <th>symptom1</th>\n",
       "      <th>symptom2</th>\n",
       "      <th>symptom3</th>\n",
       "      <th>symptom4</th>\n",
       "      <th>diff_sym_hos</th>\n",
       "      <th>result</th>\n",
       "    </tr>\n",
       "    <tr>\n",
       "      <th>index</th>\n",
       "      <th></th>\n",
       "      <th></th>\n",
       "      <th></th>\n",
       "      <th></th>\n",
       "      <th></th>\n",
       "      <th></th>\n",
       "      <th></th>\n",
       "      <th></th>\n",
       "      <th></th>\n",
       "      <th></th>\n",
       "      <th></th>\n",
       "      <th></th>\n",
       "    </tr>\n",
       "  </thead>\n",
       "  <tbody>\n",
       "    <tr>\n",
       "      <th>0</th>\n",
       "      <td>104</td>\n",
       "      <td>8</td>\n",
       "      <td>1</td>\n",
       "      <td>66.0</td>\n",
       "      <td>1</td>\n",
       "      <td>0</td>\n",
       "      <td>14</td>\n",
       "      <td>31</td>\n",
       "      <td>19</td>\n",
       "      <td>12</td>\n",
       "      <td>8</td>\n",
       "      <td>1</td>\n",
       "    </tr>\n",
       "    <tr>\n",
       "      <th>1</th>\n",
       "      <td>101</td>\n",
       "      <td>8</td>\n",
       "      <td>0</td>\n",
       "      <td>56.0</td>\n",
       "      <td>0</td>\n",
       "      <td>1</td>\n",
       "      <td>14</td>\n",
       "      <td>31</td>\n",
       "      <td>19</td>\n",
       "      <td>12</td>\n",
       "      <td>0</td>\n",
       "      <td>0</td>\n",
       "    </tr>\n",
       "    <tr>\n",
       "      <th>2</th>\n",
       "      <td>137</td>\n",
       "      <td>8</td>\n",
       "      <td>1</td>\n",
       "      <td>46.0</td>\n",
       "      <td>0</td>\n",
       "      <td>1</td>\n",
       "      <td>14</td>\n",
       "      <td>31</td>\n",
       "      <td>19</td>\n",
       "      <td>12</td>\n",
       "      <td>13</td>\n",
       "      <td>0</td>\n",
       "    </tr>\n",
       "    <tr>\n",
       "      <th>3</th>\n",
       "      <td>116</td>\n",
       "      <td>8</td>\n",
       "      <td>0</td>\n",
       "      <td>60.0</td>\n",
       "      <td>1</td>\n",
       "      <td>0</td>\n",
       "      <td>14</td>\n",
       "      <td>31</td>\n",
       "      <td>19</td>\n",
       "      <td>12</td>\n",
       "      <td>0</td>\n",
       "      <td>0</td>\n",
       "    </tr>\n",
       "    <tr>\n",
       "      <th>4</th>\n",
       "      <td>116</td>\n",
       "      <td>8</td>\n",
       "      <td>1</td>\n",
       "      <td>58.0</td>\n",
       "      <td>0</td>\n",
       "      <td>0</td>\n",
       "      <td>14</td>\n",
       "      <td>31</td>\n",
       "      <td>19</td>\n",
       "      <td>12</td>\n",
       "      <td>0</td>\n",
       "      <td>0</td>\n",
       "    </tr>\n",
       "    <tr>\n",
       "      <th>...</th>\n",
       "      <td>...</td>\n",
       "      <td>...</td>\n",
       "      <td>...</td>\n",
       "      <td>...</td>\n",
       "      <td>...</td>\n",
       "      <td>...</td>\n",
       "      <td>...</td>\n",
       "      <td>...</td>\n",
       "      <td>...</td>\n",
       "      <td>...</td>\n",
       "      <td>...</td>\n",
       "      <td>...</td>\n",
       "    </tr>\n",
       "    <tr>\n",
       "      <th>858</th>\n",
       "      <td>48</td>\n",
       "      <td>3</td>\n",
       "      <td>1</td>\n",
       "      <td>24.0</td>\n",
       "      <td>0</td>\n",
       "      <td>0</td>\n",
       "      <td>14</td>\n",
       "      <td>31</td>\n",
       "      <td>19</td>\n",
       "      <td>12</td>\n",
       "      <td>0</td>\n",
       "      <td>1</td>\n",
       "    </tr>\n",
       "    <tr>\n",
       "      <th>859</th>\n",
       "      <td>0</td>\n",
       "      <td>0</td>\n",
       "      <td>1</td>\n",
       "      <td>35.0</td>\n",
       "      <td>0</td>\n",
       "      <td>0</td>\n",
       "      <td>14</td>\n",
       "      <td>31</td>\n",
       "      <td>19</td>\n",
       "      <td>12</td>\n",
       "      <td>0</td>\n",
       "      <td>0</td>\n",
       "    </tr>\n",
       "    <tr>\n",
       "      <th>860</th>\n",
       "      <td>3</td>\n",
       "      <td>1</td>\n",
       "      <td>1</td>\n",
       "      <td>49.4</td>\n",
       "      <td>0</td>\n",
       "      <td>0</td>\n",
       "      <td>14</td>\n",
       "      <td>31</td>\n",
       "      <td>19</td>\n",
       "      <td>12</td>\n",
       "      <td>0</td>\n",
       "      <td>0</td>\n",
       "    </tr>\n",
       "    <tr>\n",
       "      <th>861</th>\n",
       "      <td>24</td>\n",
       "      <td>9</td>\n",
       "      <td>1</td>\n",
       "      <td>49.4</td>\n",
       "      <td>0</td>\n",
       "      <td>0</td>\n",
       "      <td>14</td>\n",
       "      <td>31</td>\n",
       "      <td>19</td>\n",
       "      <td>12</td>\n",
       "      <td>0</td>\n",
       "      <td>0</td>\n",
       "    </tr>\n",
       "    <tr>\n",
       "      <th>862</th>\n",
       "      <td>15</td>\n",
       "      <td>27</td>\n",
       "      <td>1</td>\n",
       "      <td>70.0</td>\n",
       "      <td>0</td>\n",
       "      <td>0</td>\n",
       "      <td>14</td>\n",
       "      <td>31</td>\n",
       "      <td>19</td>\n",
       "      <td>12</td>\n",
       "      <td>0</td>\n",
       "      <td>0</td>\n",
       "    </tr>\n",
       "  </tbody>\n",
       "</table>\n",
       "<p>863 rows × 12 columns</p>\n",
       "</div>"
      ],
      "text/plain": [
       "       location  country  gender   age  vis_wuhan  from_wuhan  symptom1  \\\n",
       "index                                                                     \n",
       "0           104        8       1  66.0          1           0        14   \n",
       "1           101        8       0  56.0          0           1        14   \n",
       "2           137        8       1  46.0          0           1        14   \n",
       "3           116        8       0  60.0          1           0        14   \n",
       "4           116        8       1  58.0          0           0        14   \n",
       "...         ...      ...     ...   ...        ...         ...       ...   \n",
       "858          48        3       1  24.0          0           0        14   \n",
       "859           0        0       1  35.0          0           0        14   \n",
       "860           3        1       1  49.4          0           0        14   \n",
       "861          24        9       1  49.4          0           0        14   \n",
       "862          15       27       1  70.0          0           0        14   \n",
       "\n",
       "       symptom2  symptom3  symptom4  diff_sym_hos  result  \n",
       "index                                                      \n",
       "0            31        19        12             8       1  \n",
       "1            31        19        12             0       0  \n",
       "2            31        19        12            13       0  \n",
       "3            31        19        12             0       0  \n",
       "4            31        19        12             0       0  \n",
       "...         ...       ...       ...           ...     ...  \n",
       "858          31        19        12             0       1  \n",
       "859          31        19        12             0       0  \n",
       "860          31        19        12             0       0  \n",
       "861          31        19        12             0       0  \n",
       "862          31        19        12             0       0  \n",
       "\n",
       "[863 rows x 12 columns]"
      ]
     },
     "execution_count": 79,
     "metadata": {},
     "output_type": "execute_result"
    }
   ],
   "source": [
    "c_df = df\n",
    "c_df['gender'] = df['gender'].replace(2,1)\n",
    "\n",
    "c_df"
   ]
  },
  {
   "cell_type": "code",
   "execution_count": 80,
   "id": "5809bce7",
   "metadata": {},
   "outputs": [],
   "source": [
    "y = c_df['result']\n",
    "X = c_df.drop(columns=['result'])"
   ]
  },
  {
   "cell_type": "code",
   "execution_count": 81,
   "id": "001f85a3",
   "metadata": {},
   "outputs": [
    {
     "data": {
      "text/html": [
       "<div>\n",
       "<style scoped>\n",
       "    .dataframe tbody tr th:only-of-type {\n",
       "        vertical-align: middle;\n",
       "    }\n",
       "\n",
       "    .dataframe tbody tr th {\n",
       "        vertical-align: top;\n",
       "    }\n",
       "\n",
       "    .dataframe thead th {\n",
       "        text-align: right;\n",
       "    }\n",
       "</style>\n",
       "<table border=\"1\" class=\"dataframe\">\n",
       "  <thead>\n",
       "    <tr style=\"text-align: right;\">\n",
       "      <th></th>\n",
       "      <th>location</th>\n",
       "      <th>country</th>\n",
       "      <th>gender</th>\n",
       "      <th>age</th>\n",
       "      <th>vis_wuhan</th>\n",
       "      <th>from_wuhan</th>\n",
       "      <th>symptom1</th>\n",
       "      <th>symptom2</th>\n",
       "      <th>symptom3</th>\n",
       "      <th>symptom4</th>\n",
       "      <th>diff_sym_hos</th>\n",
       "    </tr>\n",
       "    <tr>\n",
       "      <th>index</th>\n",
       "      <th></th>\n",
       "      <th></th>\n",
       "      <th></th>\n",
       "      <th></th>\n",
       "      <th></th>\n",
       "      <th></th>\n",
       "      <th></th>\n",
       "      <th></th>\n",
       "      <th></th>\n",
       "      <th></th>\n",
       "      <th></th>\n",
       "    </tr>\n",
       "  </thead>\n",
       "  <tbody>\n",
       "    <tr>\n",
       "      <th>0</th>\n",
       "      <td>0.753623</td>\n",
       "      <td>0.242424</td>\n",
       "      <td>1.0</td>\n",
       "      <td>0.680851</td>\n",
       "      <td>1.0</td>\n",
       "      <td>0.0</td>\n",
       "      <td>0.583333</td>\n",
       "      <td>1.0</td>\n",
       "      <td>1.0</td>\n",
       "      <td>1.0</td>\n",
       "      <td>0.65</td>\n",
       "    </tr>\n",
       "    <tr>\n",
       "      <th>1</th>\n",
       "      <td>0.731884</td>\n",
       "      <td>0.242424</td>\n",
       "      <td>0.0</td>\n",
       "      <td>0.574468</td>\n",
       "      <td>0.0</td>\n",
       "      <td>1.0</td>\n",
       "      <td>0.583333</td>\n",
       "      <td>1.0</td>\n",
       "      <td>1.0</td>\n",
       "      <td>1.0</td>\n",
       "      <td>0.25</td>\n",
       "    </tr>\n",
       "    <tr>\n",
       "      <th>2</th>\n",
       "      <td>0.992754</td>\n",
       "      <td>0.242424</td>\n",
       "      <td>1.0</td>\n",
       "      <td>0.468085</td>\n",
       "      <td>0.0</td>\n",
       "      <td>1.0</td>\n",
       "      <td>0.583333</td>\n",
       "      <td>1.0</td>\n",
       "      <td>1.0</td>\n",
       "      <td>1.0</td>\n",
       "      <td>0.90</td>\n",
       "    </tr>\n",
       "    <tr>\n",
       "      <th>3</th>\n",
       "      <td>0.840580</td>\n",
       "      <td>0.242424</td>\n",
       "      <td>0.0</td>\n",
       "      <td>0.617021</td>\n",
       "      <td>1.0</td>\n",
       "      <td>0.0</td>\n",
       "      <td>0.583333</td>\n",
       "      <td>1.0</td>\n",
       "      <td>1.0</td>\n",
       "      <td>1.0</td>\n",
       "      <td>0.25</td>\n",
       "    </tr>\n",
       "    <tr>\n",
       "      <th>4</th>\n",
       "      <td>0.840580</td>\n",
       "      <td>0.242424</td>\n",
       "      <td>1.0</td>\n",
       "      <td>0.595745</td>\n",
       "      <td>0.0</td>\n",
       "      <td>0.0</td>\n",
       "      <td>0.583333</td>\n",
       "      <td>1.0</td>\n",
       "      <td>1.0</td>\n",
       "      <td>1.0</td>\n",
       "      <td>0.25</td>\n",
       "    </tr>\n",
       "    <tr>\n",
       "      <th>...</th>\n",
       "      <td>...</td>\n",
       "      <td>...</td>\n",
       "      <td>...</td>\n",
       "      <td>...</td>\n",
       "      <td>...</td>\n",
       "      <td>...</td>\n",
       "      <td>...</td>\n",
       "      <td>...</td>\n",
       "      <td>...</td>\n",
       "      <td>...</td>\n",
       "      <td>...</td>\n",
       "    </tr>\n",
       "    <tr>\n",
       "      <th>858</th>\n",
       "      <td>0.347826</td>\n",
       "      <td>0.090909</td>\n",
       "      <td>1.0</td>\n",
       "      <td>0.234043</td>\n",
       "      <td>0.0</td>\n",
       "      <td>0.0</td>\n",
       "      <td>0.583333</td>\n",
       "      <td>1.0</td>\n",
       "      <td>1.0</td>\n",
       "      <td>1.0</td>\n",
       "      <td>0.25</td>\n",
       "    </tr>\n",
       "    <tr>\n",
       "      <th>859</th>\n",
       "      <td>0.000000</td>\n",
       "      <td>0.000000</td>\n",
       "      <td>1.0</td>\n",
       "      <td>0.351064</td>\n",
       "      <td>0.0</td>\n",
       "      <td>0.0</td>\n",
       "      <td>0.583333</td>\n",
       "      <td>1.0</td>\n",
       "      <td>1.0</td>\n",
       "      <td>1.0</td>\n",
       "      <td>0.25</td>\n",
       "    </tr>\n",
       "    <tr>\n",
       "      <th>860</th>\n",
       "      <td>0.021739</td>\n",
       "      <td>0.030303</td>\n",
       "      <td>1.0</td>\n",
       "      <td>0.504255</td>\n",
       "      <td>0.0</td>\n",
       "      <td>0.0</td>\n",
       "      <td>0.583333</td>\n",
       "      <td>1.0</td>\n",
       "      <td>1.0</td>\n",
       "      <td>1.0</td>\n",
       "      <td>0.25</td>\n",
       "    </tr>\n",
       "    <tr>\n",
       "      <th>861</th>\n",
       "      <td>0.173913</td>\n",
       "      <td>0.272727</td>\n",
       "      <td>1.0</td>\n",
       "      <td>0.504255</td>\n",
       "      <td>0.0</td>\n",
       "      <td>0.0</td>\n",
       "      <td>0.583333</td>\n",
       "      <td>1.0</td>\n",
       "      <td>1.0</td>\n",
       "      <td>1.0</td>\n",
       "      <td>0.25</td>\n",
       "    </tr>\n",
       "    <tr>\n",
       "      <th>862</th>\n",
       "      <td>0.108696</td>\n",
       "      <td>0.818182</td>\n",
       "      <td>1.0</td>\n",
       "      <td>0.723404</td>\n",
       "      <td>0.0</td>\n",
       "      <td>0.0</td>\n",
       "      <td>0.583333</td>\n",
       "      <td>1.0</td>\n",
       "      <td>1.0</td>\n",
       "      <td>1.0</td>\n",
       "      <td>0.25</td>\n",
       "    </tr>\n",
       "  </tbody>\n",
       "</table>\n",
       "<p>863 rows × 11 columns</p>\n",
       "</div>"
      ],
      "text/plain": [
       "       location   country  gender       age  vis_wuhan  from_wuhan  symptom1  \\\n",
       "index                                                                          \n",
       "0      0.753623  0.242424     1.0  0.680851        1.0         0.0  0.583333   \n",
       "1      0.731884  0.242424     0.0  0.574468        0.0         1.0  0.583333   \n",
       "2      0.992754  0.242424     1.0  0.468085        0.0         1.0  0.583333   \n",
       "3      0.840580  0.242424     0.0  0.617021        1.0         0.0  0.583333   \n",
       "4      0.840580  0.242424     1.0  0.595745        0.0         0.0  0.583333   \n",
       "...         ...       ...     ...       ...        ...         ...       ...   \n",
       "858    0.347826  0.090909     1.0  0.234043        0.0         0.0  0.583333   \n",
       "859    0.000000  0.000000     1.0  0.351064        0.0         0.0  0.583333   \n",
       "860    0.021739  0.030303     1.0  0.504255        0.0         0.0  0.583333   \n",
       "861    0.173913  0.272727     1.0  0.504255        0.0         0.0  0.583333   \n",
       "862    0.108696  0.818182     1.0  0.723404        0.0         0.0  0.583333   \n",
       "\n",
       "       symptom2  symptom3  symptom4  diff_sym_hos  \n",
       "index                                              \n",
       "0           1.0       1.0       1.0          0.65  \n",
       "1           1.0       1.0       1.0          0.25  \n",
       "2           1.0       1.0       1.0          0.90  \n",
       "3           1.0       1.0       1.0          0.25  \n",
       "4           1.0       1.0       1.0          0.25  \n",
       "...         ...       ...       ...           ...  \n",
       "858         1.0       1.0       1.0          0.25  \n",
       "859         1.0       1.0       1.0          0.25  \n",
       "860         1.0       1.0       1.0          0.25  \n",
       "861         1.0       1.0       1.0          0.25  \n",
       "862         1.0       1.0       1.0          0.25  \n",
       "\n",
       "[863 rows x 11 columns]"
      ]
     },
     "execution_count": 81,
     "metadata": {},
     "output_type": "execute_result"
    }
   ],
   "source": [
    "scaler = MinMaxScaler(feature_range = (0,1)) \n",
    "scaled_values = scaler.fit_transform(X) \n",
    "X.loc[:,:] = scaled_values\n",
    "X"
   ]
  },
  {
   "cell_type": "code",
   "execution_count": 82,
   "id": "7839f6c7",
   "metadata": {},
   "outputs": [
    {
     "name": "stdout",
     "output_type": "stream",
     "text": [
      "1.0    561\n",
      "0.0    302\n",
      "Name: gender, dtype: int64\n",
      "1    561\n",
      "0    302\n",
      "Name: gender, dtype: int64\n"
     ]
    }
   ],
   "source": [
    "print(X['gender'].value_counts())\n",
    "print(df['gender'].value_counts())"
   ]
  },
  {
   "cell_type": "markdown",
   "id": "4d6f5c71",
   "metadata": {},
   "source": [
    "__Train/Test Split:__"
   ]
  },
  {
   "cell_type": "code",
   "execution_count": 83,
   "id": "eee43831",
   "metadata": {},
   "outputs": [],
   "source": [
    "X1_train, X1_test, y1_train, y1_test = train_test_split(X,y,test_size=0.1,random_state=10)"
   ]
  },
  {
   "cell_type": "markdown",
   "id": "f7385089",
   "metadata": {},
   "source": [
    "__Training on different values of K to get the best Value of K:__"
   ]
  },
  {
   "cell_type": "code",
   "execution_count": 84,
   "id": "2751012c",
   "metadata": {},
   "outputs": [],
   "source": [
    "f2 = list()\n",
    "rec = list()\n",
    "for i in range (1,int(np.sqrt(len(df)))):\n",
    "    knn = KNeighborsClassifier(n_neighbors=i)\n",
    "    knn.fit(X1_train, y1_train)\n",
    "    y_pred_prob = knn.predict_proba(X1_test)\n",
    "    y_pred_prob = y_pred_prob[:, 1]\n",
    "    y_pred = knn.predict(X1_test)\n",
    "    rec.append(recall_score(y1_test, y_pred))\n",
    "    f2.append(fbeta_score(y1_test, y_pred, beta=2))"
   ]
  },
  {
   "cell_type": "markdown",
   "id": "0bc6cc01",
   "metadata": {},
   "source": [
    "__Plotting F2-Score and Recall on different Values of K:__"
   ]
  },
  {
   "cell_type": "code",
   "execution_count": 85,
   "id": "143c7c32",
   "metadata": {},
   "outputs": [
    {
     "data": {
      "image/png": "[encoded data removed]",
      "text/plain": [
       "<Figure size 432x288 with 1 Axes>"
      ]
     },
     "metadata": {
      "needs_background": "light"
     },
     "output_type": "display_data"
    }
   ],
   "source": [
    "plt.plot(range(1,29), f2, 'r',label=\"f-2\")\n",
    "plt.plot(range(1,29), rec, 'b',label =\"Recall\")\n",
    "plt.ylabel(\"Score\")\n",
    "plt.xlabel(\"K\")\n",
    "plt.legend()\n",
    "plt.grid()\n",
    "plt.show()"
   ]
  },
  {
   "cell_type": "code",
   "execution_count": 86,
   "id": "9c2e80c9",
   "metadata": {},
   "outputs": [
    {
     "data": {
      "text/plain": [
       "3"
      ]
     },
     "execution_count": 86,
     "metadata": {},
     "output_type": "execute_result"
    }
   ],
   "source": [
    "k=f2.index(max(f2))+1\n",
    "k"
   ]
  },
  {
   "cell_type": "markdown",
   "id": "d615e5b7",
   "metadata": {},
   "source": [
    "__Training the Model on the best value of K:__"
   ]
  },
  {
   "cell_type": "code",
   "execution_count": 87,
   "id": "9a4e91da",
   "metadata": {},
   "outputs": [],
   "source": [
    "knn = KNeighborsClassifier(n_neighbors=k)\n",
    "knn.fit(X1_train, y1_train)\n",
    "y_pred_prob = knn.predict_proba(X1_test)\n",
    "y_pred_prob = y_pred_prob[:, 1]\n",
    "y_pred = knn.predict(X1_test)"
   ]
  },
  {
   "cell_type": "markdown",
   "id": "e0aa3d20",
   "metadata": {},
   "source": [
    "__Displaying Scoring Metrics of the Model:__"
   ]
  },
  {
   "cell_type": "code",
   "execution_count": 88,
   "id": "de357392",
   "metadata": {},
   "outputs": [
    {
     "name": "stderr",
     "output_type": "stream",
     "text": [
      "C:\\Users\\steve\\miniconda3\\envs\\mlpr\\lib\\site-packages\\sklearn\\utils\\deprecation.py:87: FutureWarning: Function plot_confusion_matrix is deprecated; Function `plot_confusion_matrix` is deprecated in 1.0 and will be removed in 1.2. Use one of the class methods: ConfusionMatrixDisplay.from_predictions or ConfusionMatrixDisplay.from_estimator.\n",
      "  warnings.warn(msg, category=FutureWarning)\n"
     ]
    },
    {
     "data": {
      "image/png": "[encoded data removed]",
      "text/plain": [
       "<Figure size 432x288 with 2 Axes>"
      ]
     },
     "metadata": {
      "needs_background": "light"
     },
     "output_type": "display_data"
    }
   ],
   "source": [
    "disp = plot_confusion_matrix(knn, X1_test, y1_test, cmap ='Blues', values_format='.3g')"
   ]
  },
  {
   "cell_type": "code",
   "execution_count": 89,
   "id": "b53b6948",
   "metadata": {},
   "outputs": [
    {
     "name": "stdout",
     "output_type": "stream",
     "text": [
      "              precision    recall  f1-score   support\n",
      "\n",
      "           0       0.97      1.00      0.99        75\n",
      "           1       1.00      0.83      0.91        12\n",
      "\n",
      "    accuracy                           0.98        87\n",
      "   macro avg       0.99      0.92      0.95        87\n",
      "weighted avg       0.98      0.98      0.98        87\n",
      "\n"
     ]
    }
   ],
   "source": [
    "print (classification_report(y1_test, y_pred))"
   ]
  },
  {
   "cell_type": "code",
   "execution_count": 90,
   "id": "4ff9d919",
   "metadata": {},
   "outputs": [
    {
     "name": "stdout",
     "output_type": "stream",
     "text": [
      "F2 Score:  0.8620689655172415\n"
     ]
    }
   ],
   "source": [
    "fpr, tpr, thresholds = roc_curve(y1_test, y_pred_prob)\n",
    "Kf2_6 = fbeta_score(y1_test, y_pred, beta=2)\n",
    "Kr6 = recall_score(y1_test, y_pred)\n",
    "Kp6 = precision_score(y1_test, y_pred)\n",
    "Ka6 = roc_auc_score(y1_test,y_pred_prob)\n",
    "print(\"F2 Score: \", Kf2_6)"
   ]
  },
  {
   "cell_type": "code",
   "execution_count": 91,
   "id": "59571741",
   "metadata": {},
   "outputs": [
    {
     "name": "stdout",
     "output_type": "stream",
     "text": [
      "Area under ROC:  0.9100000000000001\n"
     ]
    },
    {
     "data": {
      "image/png": "[encoded data removed]",
      "text/plain": [
       "<Figure size 432x288 with 1 Axes>"
      ]
     },
     "metadata": {
      "needs_background": "light"
     },
     "output_type": "display_data"
    }
   ],
   "source": [
    "print(\"Area under ROC: \",roc_auc_score(y1_test, y_pred_prob))\n",
    "plt.plot(fpr, tpr,'r-',label = 'KNN')\n",
    "plt.plot([0,1],[0,1],'k-',label='random')\n",
    "plt.legend()\n",
    "plt.xlabel('False Positive Rate')\n",
    "plt.ylabel('True Positive Rate')\n",
    "plt.title('ROC Curve')\n",
    "plt.show()"
   ]
  },
  {
   "cell_type": "markdown",
   "id": "44a65417",
   "metadata": {},
   "source": [
    "### Comparison Between Different Preprocessings:\n",
    "\n",
    "and nominating the best model based on the highest f2-score of them."
   ]
  },
  {
   "cell_type": "code",
   "execution_count": 92,
   "id": "362bb19a",
   "metadata": {},
   "outputs": [
    {
     "data": {
      "image/png": "[encoded data removed]",
      "text/plain": [
       "<Figure size 1440x720 with 1 Axes>"
      ]
     },
     "metadata": {
      "needs_background": "light"
     },
     "output_type": "display_data"
    }
   ],
   "source": [
    "fig = plt.figure(figsize=(20,10))\n",
    "plt.plot(['Without Any Preprocessing','With Normalization', 'One Hot Encoding', 'Categorical', 'One Hot and Normalization', 'Without Normalizing Age', 'Gender Smoothing'],[Kf2_0,Kf2_1,Kf2_2,Kf2_3,Kf2_4,Kf2_5,Kf2_6],color='b',marker='o',label ='F2')\n",
    "plt.plot(['Without Any Preprocessing','With Normalization', 'One Hot Encoding', 'Categorical', 'One Hot and Normalization', 'Without Normalizing Age', 'Gender Smoothing'],[Kr0,Kr1,Kr2,Kr3,Kr4,Kr5,Kr6],color='r',marker='o',label ='Recall')\n",
    "plt.plot(['Without Any Preprocessing','With Normalization', 'One Hot Encoding', 'Categorical', 'One Hot and Normalization', 'Without Normalizing Age', 'Gender Smoothing'],[Kp0,Kp1,Kp2,Kp3,Kp4,Kp5,Kp6],color='g',marker='o',label ='Precision')\n",
    "plt.plot(['Without Any Preprocessing','With Normalization', 'One Hot Encoding', 'Categorical', 'One Hot and Normalization', 'Without Normalizing Age', 'Gender Smoothing'],[Ka0,Ka1,Ka2,Ka3,Ka4,Ka5,Ka6],color='black',marker='o',label ='AUC')\n",
    "\n",
    "\n",
    "\n",
    "plt.title('KNN')\n",
    "plt.legend()\n",
    "plt.grid()\n",
    "plt.show()"
   ]
  },
  {
   "cell_type": "markdown",
   "id": "2ace11a7",
   "metadata": {},
   "source": [
    "### Conclusions of KNN:\n",
    "\n",
    "Based on the above graph, we can conclude that the best model is with normalization only, so when we are comparing different classifiers, we will compare with this model as a representative of the KNN."
   ]
  },
  {
   "cell_type": "markdown",
   "id": "9a1e3a7d",
   "metadata": {},
   "source": [
    "---"
   ]
  }
 ],
 "metadata": {
  "kernelspec": {
   "display_name": "Python 3 (ipykernel)",
   "language": "python",
   "name": "python3"
  },
  "language_info": {
   "codemirror_mode": {
    "name": "ipython",
    "version": 3
   },
   "file_extension": ".py",
   "mimetype": "text/x-python",
   "name": "python",
   "nbconvert_exporter": "python",
   "pygments_lexer": "ipython3",
   "version": "3.8.12"
  }
 },
 "nbformat": 4,
 "nbformat_minor": 5
}
